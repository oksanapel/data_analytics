{
 "cells": [
  {
   "cell_type": "code",
   "execution_count": 1,
   "id": "dd1ff28b-c989-4a84-9ffa-b401de5e8b1b",
   "metadata": {},
   "outputs": [],
   "source": [
    "# import OS and shutil module to be able to do operations on files like copying, creating etc\n",
    "\n",
    "import os, shutil"
   ]
  },
  {
   "cell_type": "code",
   "execution_count": 3,
   "id": "ff8ee1d1-d172-4ab0-8638-ce2af82b5b56",
   "metadata": {},
   "outputs": [],
   "source": [
    "# assign path to the folder as a variable, add r before the string for backslashes to be treated as literal\n",
    "\n",
    "path = r'/Users/admin/Desktop/sort_files_project/'"
   ]
  },
  {
   "cell_type": "code",
   "execution_count": 5,
   "id": "eb284916-0dd1-41e3-8b65-ed0aa794d513",
   "metadata": {},
   "outputs": [],
   "source": [
    "# use .listdir() to get the list of all files and directories in the specified directory and asign them to a variable\n",
    "\n",
    "file_name = os.listdir(path)"
   ]
  },
  {
   "cell_type": "code",
   "execution_count": 9,
   "id": "9bb51078-d9f3-4840-b488-8ed45478d1e3",
   "metadata": {},
   "outputs": [],
   "source": [
    "# make up names for the future folders\n",
    "folder_names = ['csv_files', 'image_files', 'txt_files']\n",
    "\n",
    "# check if folders above already exist, if not -> use .makedirs() to create them\n",
    "for loop in range(0,3):\n",
    "    if not os.path.exists(path + folder_names[loop]):\n",
    "        os.makedirs(path + folder_names[loop])\n",
    "\n",
    "# loop through the files in a folder and assign them to folderas accordinf to their types\n",
    "for file in file_name:\n",
    "    if '.csv' in file and not os.path.exists(path + 'csv_files/' + file):\n",
    "        shutil.move(path + file, path + 'csv_files/' + file)\n",
    "    elif '.docx' in file and not os.path.exists(path + 'txt_files/' + file):\n",
    "        shutil.move(path + file, path + 'txt_files/' + file) \n",
    "    elif '.png' in file and not os.path.exists(path + 'image_files/' + file):\n",
    "        shutil.move(path + file, path + 'image_files/' + file)"
   ]
  }
 ],
 "metadata": {
  "kernelspec": {
   "display_name": "Python 3 (ipykernel)",
   "language": "python",
   "name": "python3"
  },
  "language_info": {
   "codemirror_mode": {
    "name": "ipython",
    "version": 3
   },
   "file_extension": ".py",
   "mimetype": "text/x-python",
   "name": "python",
   "nbconvert_exporter": "python",
   "pygments_lexer": "ipython3",
   "version": "3.12.4"
  }
 },
 "nbformat": 4,
 "nbformat_minor": 5
}
