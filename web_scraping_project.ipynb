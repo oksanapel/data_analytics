{
 "cells": [
  {
   "cell_type": "code",
   "execution_count": 1,
   "id": "476844fa-efc3-48b0-adbb-77c59f1c0ad7",
   "metadata": {},
   "outputs": [],
   "source": [
    "# import BeautifulSoup to scrape info from a web page\n",
    "from bs4 import BeautifulSoup\n",
    "import requests"
   ]
  },
  {
   "cell_type": "code",
   "execution_count": 3,
   "id": "f47b03a1-b2a6-480e-8a9e-86da795505ca",
   "metadata": {},
   "outputs": [],
   "source": [
    "import pandas as pd"
   ]
  },
  {
   "cell_type": "code",
   "execution_count": 5,
   "id": "6b8d0106-fc61-4837-96c0-8db19d1860b2",
   "metadata": {},
   "outputs": [],
   "source": [
    "url = 'https://www.cia.gov/the-world-factbook/field/life-expectancy-at-birth/country-comparison/'"
   ]
  },
  {
   "cell_type": "code",
   "execution_count": 7,
   "id": "8ef3053e-b4ad-4c44-9156-646809dcd7d2",
   "metadata": {},
   "outputs": [],
   "source": [
    "page = requests.get(url)"
   ]
  },
  {
   "cell_type": "code",
   "execution_count": 9,
   "id": "5c48449e-6690-4445-8da0-a634a4daeef4",
   "metadata": {},
   "outputs": [],
   "source": [
    "info = BeautifulSoup(page.text, 'html')"
   ]
  },
  {
   "cell_type": "code",
   "execution_count": 11,
   "id": "19f86ca8-08ca-4b23-96bf-bb474900ee64",
   "metadata": {},
   "outputs": [
    {
     "data": {
      "text/plain": [
       "<table class=\"content-table table-auto\"><thead><tr class=\"header-row\"><th>Rank</th><th>Country</th><th> years</th><th>Date of Information</th></tr></thead><tbody><tr class=\"content-row\"><td>1</td><td><a class=\"text-button\" href=\"/the-world-factbook/countries/monaco/\">Monaco</a></td><td>89.8</td><td>2024 est.</td></tr><tr class=\"content-row\"><td>2</td><td><a class=\"text-button\" href=\"/the-world-factbook/countries/singapore/\">Singapore</a></td><td>86.7</td><td>2024 est.</td></tr><tr class=\"content-row\"><td>3</td><td><a class=\"text-button\" href=\"/the-world-factbook/countries/macau/\">Macau</a></td><td>85.3</td><td>2024 est.</td></tr><tr class=\"content-row\"><td>4</td><td><a class=\"text-button\" href=\"/the-world-factbook/countries/japan/\">Japan</a></td><td>85.2</td><td>2024 est.</td></tr><tr class=\"content-row\"><td>5</td><td><a class=\"text-button\" href=\"/the-world-factbook/countries/canada/\">Canada</a></td><td>84.2</td><td>2024 est.</td></tr><tr class=\"content-row\"><td>6</td><td><a class=\"text-button\" href=\"/the-world-factbook/countries/san-marino/\">San Marino</a></td><td>84.2</td><td>2024 est.</td></tr><tr class=\"content-row\"><td>7</td><td><a class=\"text-button\" href=\"/the-world-factbook/countries/hong-kong/\">Hong Kong</a></td><td>84</td><td>2024 est.</td></tr><tr class=\"content-row\"><td>8</td><td><a class=\"text-button\" href=\"/the-world-factbook/countries/iceland/\">Iceland</a></td><td>84</td><td>2024 est.</td></tr><tr class=\"content-row\"><td>9</td><td><a class=\"text-button\" href=\"/the-world-factbook/countries/switzerland/\">Switzerland</a></td><td>83.9</td><td>2024 est.</td></tr><tr class=\"content-row\"><td>10</td><td><a class=\"text-button\" href=\"/the-world-factbook/countries/andorra/\">Andorra</a></td><td>83.8</td><td>2024 est.</td></tr><tr class=\"content-row\"><td>11</td><td><a class=\"text-button\" href=\"/the-world-factbook/countries/guernsey/\">Guernsey</a></td><td>83.6</td><td>2024 est.</td></tr><tr class=\"content-row\"><td>12</td><td><a class=\"text-button\" href=\"/the-world-factbook/countries/malta/\">Malta</a></td><td>83.6</td><td>2024 est.</td></tr><tr class=\"content-row\"><td>13</td><td><a class=\"text-button\" href=\"/the-world-factbook/countries/australia/\">Australia</a></td><td>83.5</td><td>2024 est.</td></tr><tr class=\"content-row\"><td>14</td><td><a class=\"text-button\" href=\"/the-world-factbook/countries/luxembourg/\">Luxembourg</a></td><td>83.4</td><td>2024 est.</td></tr><tr class=\"content-row\"><td>15</td><td><a class=\"text-button\" href=\"/the-world-factbook/countries/korea-south/\">Korea, South</a></td><td>83.4</td><td>2024 est.</td></tr><tr class=\"content-row\"><td>16</td><td><a class=\"text-button\" href=\"/the-world-factbook/countries/israel/\">Israel</a></td><td>83.1</td><td>2024 est.</td></tr><tr class=\"content-row\"><td>17</td><td><a class=\"text-button\" href=\"/the-world-factbook/countries/jersey/\">Jersey</a></td><td>83</td><td>2024 est.</td></tr><tr class=\"content-row\"><td>18</td><td><a class=\"text-button\" href=\"/the-world-factbook/countries/spain/\">Spain</a></td><td>83</td><td>2024 est.</td></tr><tr class=\"content-row\"><td>19</td><td><a class=\"text-button\" href=\"/the-world-factbook/countries/italy/\">Italy</a></td><td>83</td><td>2024 est.</td></tr><tr class=\"content-row\"><td>20</td><td><a class=\"text-button\" href=\"/the-world-factbook/countries/liechtenstein/\">Liechtenstein</a></td><td>83</td><td>2024 est.</td></tr><tr class=\"content-row\"><td>21</td><td><a class=\"text-button\" href=\"/the-world-factbook/countries/sweden/\">Sweden</a></td><td>82.9</td><td>2024 est.</td></tr><tr class=\"content-row\"><td>22</td><td><a class=\"text-button\" href=\"/the-world-factbook/countries/norway/\">Norway</a></td><td>82.9</td><td>2024 est.</td></tr><tr class=\"content-row\"><td>23</td><td><a class=\"text-button\" href=\"/the-world-factbook/countries/new-zealand/\">New Zealand</a></td><td>82.9</td><td>2024 est.</td></tr><tr class=\"content-row\"><td>24</td><td><a class=\"text-button\" href=\"/the-world-factbook/countries/austria/\">Austria</a></td><td>82.7</td><td>2024 est.</td></tr><tr class=\"content-row\"><td>25</td><td><a class=\"text-button\" href=\"/the-world-factbook/countries/france/\">France</a></td><td>82.6</td><td>2024 est.</td></tr><tr class=\"content-row\"><td>26</td><td><a class=\"text-button\" href=\"/the-world-factbook/countries/anguilla/\">Anguilla</a></td><td>82.6</td><td>2024 est.</td></tr><tr class=\"content-row\"><td>27</td><td><a class=\"text-button\" href=\"/the-world-factbook/countries/cayman-islands/\">Cayman Islands</a></td><td>82.5</td><td>2024 est.</td></tr><tr class=\"content-row\"><td>28</td><td><a class=\"text-button\" href=\"/the-world-factbook/countries/isle-of-man/\">Isle of Man</a></td><td>82.5</td><td>2024 est.</td></tr><tr class=\"content-row\"><td>29</td><td><a class=\"text-button\" href=\"/the-world-factbook/countries/bermuda/\">Bermuda</a></td><td>82.5</td><td>2024 est.</td></tr><tr class=\"content-row\"><td>30</td><td><a class=\"text-button\" href=\"/the-world-factbook/countries/belgium/\">Belgium</a></td><td>82.3</td><td>2024 est.</td></tr><tr class=\"content-row\"><td>31</td><td><a class=\"text-button\" href=\"/the-world-factbook/countries/finland/\">Finland</a></td><td>82.2</td><td>2024 est.</td></tr><tr class=\"content-row\"><td>32</td><td><a class=\"text-button\" href=\"/the-world-factbook/countries/slovenia/\">Slovenia</a></td><td>82.2</td><td>2024 est.</td></tr><tr class=\"content-row\"><td>33</td><td><a class=\"text-button\" href=\"/the-world-factbook/countries/united-kingdom/\">United Kingdom</a></td><td>82.2</td><td>2024 est.</td></tr><tr class=\"content-row\"><td>34</td><td><a class=\"text-button\" href=\"/the-world-factbook/countries/puerto-rico/\">Puerto Rico</a></td><td>82.1</td><td>2024 est.</td></tr><tr class=\"content-row\"><td>35</td><td><a class=\"text-button\" href=\"/the-world-factbook/countries/denmark/\">Denmark</a></td><td>82.1</td><td>2024 est.</td></tr><tr class=\"content-row\"><td>36</td><td><a class=\"text-button\" href=\"/the-world-factbook/countries/ireland/\">Ireland</a></td><td>82</td><td>2024 est.</td></tr><tr class=\"content-row\"><td>37</td><td><a class=\"text-button\" href=\"/the-world-factbook/countries/portugal/\">Portugal</a></td><td>81.9</td><td>2024 est.</td></tr><tr class=\"content-row\"><td>38</td><td><a class=\"text-button\" href=\"/the-world-factbook/countries/germany/\">Germany</a></td><td>81.9</td><td>2024 est.</td></tr><tr class=\"content-row\"><td>39</td><td><a class=\"text-button\" href=\"/the-world-factbook/countries/netherlands/\">Netherlands</a></td><td>81.9</td><td>2024 est.</td></tr><tr class=\"content-row\"><td>40</td><td><a class=\"text-button\" href=\"/the-world-factbook/countries/greece/\">Greece</a></td><td>81.9</td><td>2024 est.</td></tr><tr class=\"content-row\"><td>41</td><td><a class=\"text-button\" href=\"/the-world-factbook/countries/saint-pierre-and-miquelon/\">Saint Pierre and Miquelon</a></td><td>81.8</td><td>2024 est.</td></tr><tr class=\"content-row\"><td>42</td><td><a class=\"text-button\" href=\"/the-world-factbook/countries/faroe-islands/\">Faroe Islands</a></td><td>81.7</td><td>2024 est.</td></tr><tr class=\"content-row\"><td>43</td><td><a class=\"text-button\" href=\"/the-world-factbook/countries/taiwan/\">Taiwan</a></td><td>81.6</td><td>2024 est.</td></tr><tr class=\"content-row\"><td>44</td><td><a class=\"text-button\" href=\"/the-world-factbook/countries/turks-and-caicos-islands/\">Turks and Caicos Islands</a></td><td>81.3</td><td>2024 est.</td></tr><tr class=\"content-row\"><td>45</td><td><a class=\"text-button\" href=\"/the-world-factbook/countries/wallis-and-futuna/\">Wallis and Futuna</a></td><td>81.1</td><td>2024 est.</td></tr><tr class=\"content-row\"><td>46</td><td><a class=\"text-button\" href=\"/the-world-factbook/countries/saint-martin/\">Saint Martin</a></td><td>81</td><td>2024 est.</td></tr><tr class=\"content-row\"><td>47</td><td><a class=\"text-button\" href=\"/the-world-factbook/countries/saint-barthelemy/\">Saint Barthelemy</a></td><td>81</td><td>2024 est.</td></tr><tr class=\"content-row\"><td>48</td><td><a class=\"text-button\" href=\"/the-world-factbook/countries/gibraltar/\">Gibraltar</a></td><td>80.9</td><td>2024 est.</td></tr><tr class=\"content-row\"><td>49</td><td><a class=\"text-button\" href=\"/the-world-factbook/countries/united-states/\">United States</a></td><td>80.9</td><td>2024 est.</td></tr><tr class=\"content-row\"><td>50</td><td><a class=\"text-button\" href=\"/the-world-factbook/countries/saint-helena-ascension-and-tristan-da-cunha/\">Saint Helena, Ascension, and Tristan da Cunha</a></td><td>80.9</td><td>2024 est.</td></tr><tr class=\"content-row\"><td>51</td><td><a class=\"text-button\" href=\"/the-world-factbook/countries/virgin-islands/\">Virgin Islands</a></td><td>80.7</td><td>2024 est.</td></tr><tr class=\"content-row\"><td>52</td><td><a class=\"text-button\" href=\"/the-world-factbook/countries/bahrain/\">Bahrain</a></td><td>80.4</td><td>2024 est.</td></tr><tr class=\"content-row\"><td>53</td><td><a class=\"text-button\" href=\"/the-world-factbook/countries/qatar/\">Qatar</a></td><td>80.3</td><td>2024 est.</td></tr><tr class=\"content-row\"><td>54</td><td><a class=\"text-button\" href=\"/the-world-factbook/countries/costa-rica/\">Costa Rica</a></td><td>80.3</td><td>2024 est.</td></tr><tr class=\"content-row\"><td>55</td><td><a class=\"text-button\" href=\"/the-world-factbook/countries/chile/\">Chile</a></td><td>80.3</td><td>2024 est.</td></tr><tr class=\"content-row\"><td>56</td><td><a class=\"text-button\" href=\"/the-world-factbook/countries/cyprus/\">Cyprus</a></td><td>80.2</td><td>2024 est.</td></tr><tr class=\"content-row\"><td>57</td><td><a class=\"text-button\" href=\"/the-world-factbook/countries/british-virgin-islands/\">British Virgin Islands</a></td><td>80.1</td><td>2024 est.</td></tr><tr class=\"content-row\"><td>58</td><td><a class=\"text-button\" href=\"/the-world-factbook/countries/cuba/\">Cuba</a></td><td>80.1</td><td>2024 est.</td></tr><tr class=\"content-row\"><td>59</td><td><a class=\"text-button\" href=\"/the-world-factbook/countries/curacao/\">Curacao</a></td><td>79.9</td><td>2024 est.</td></tr><tr class=\"content-row\"><td>60</td><td><a class=\"text-button\" href=\"/the-world-factbook/countries/united-arab-emirates/\">United Arab Emirates</a></td><td>79.9</td><td>2024 est.</td></tr><tr class=\"content-row\"><td>61</td><td><a class=\"text-button\" href=\"/the-world-factbook/countries/albania/\">Albania</a></td><td>79.9</td><td>2024 est.</td></tr><tr class=\"content-row\"><td>62</td><td><a class=\"text-button\" href=\"/the-world-factbook/countries/sint-maarten/\">Sint Maarten</a></td><td>79.7</td><td>2024 est.</td></tr><tr class=\"content-row\"><td>63</td><td><a class=\"text-button\" href=\"/the-world-factbook/countries/kuwait/\">Kuwait</a></td><td>79.6</td><td>2024 est.</td></tr><tr class=\"content-row\"><td>64</td><td><a class=\"text-button\" href=\"/the-world-factbook/countries/saint-lucia/\">Saint Lucia</a></td><td>79.4</td><td>2024 est.</td></tr><tr class=\"content-row\"><td>65</td><td><a class=\"text-button\" href=\"/the-world-factbook/countries/new-caledonia/\">New Caledonia</a></td><td>79.3</td><td>2024 est.</td></tr><tr class=\"content-row\"><td>66</td><td><a class=\"text-button\" href=\"/the-world-factbook/countries/panama/\">Panama</a></td><td>79.2</td><td>2024 est.</td></tr><tr class=\"content-row\"><td>67</td><td><a class=\"text-button\" href=\"/the-world-factbook/countries/lebanon/\">Lebanon</a></td><td>79.2</td><td>2024 est.</td></tr><tr class=\"content-row\"><td>68</td><td><a class=\"text-button\" href=\"/the-world-factbook/countries/barbados/\">Barbados</a></td><td>79</td><td>2024 est.</td></tr><tr class=\"content-row\"><td>69</td><td><a class=\"text-button\" href=\"/the-world-factbook/countries/french-polynesia/\">French Polynesia</a></td><td>78.9</td><td>2024 est.</td></tr><tr class=\"content-row\"><td>70</td><td><a class=\"text-button\" href=\"/the-world-factbook/countries/uruguay/\">Uruguay</a></td><td>78.9</td><td>2024 est.</td></tr><tr class=\"content-row\"><td>71</td><td><a class=\"text-button\" href=\"/the-world-factbook/countries/brunei/\">Brunei</a></td><td>78.9</td><td>2024 est.</td></tr><tr class=\"content-row\"><td>72</td><td><a class=\"text-button\" href=\"/the-world-factbook/countries/argentina/\">Argentina</a></td><td>78.8</td><td>2024 est.</td></tr><tr class=\"content-row\"><td>73</td><td><a class=\"text-button\" href=\"/the-world-factbook/countries/paraguay/\">Paraguay</a></td><td>78.8</td><td>2024 est.</td></tr><tr class=\"content-row\"><td>74</td><td><a class=\"text-button\" href=\"/the-world-factbook/countries/dominica/\">Dominica</a></td><td>78.7</td><td>2024 est.</td></tr><tr class=\"content-row\"><td>75</td><td><a class=\"text-button\" href=\"/the-world-factbook/countries/china/\">China</a></td><td>78.7</td><td>2024 est.</td></tr><tr class=\"content-row\"><td>76</td><td><a class=\"text-button\" href=\"/the-world-factbook/countries/czechia/\">Czechia</a></td><td>78.6</td><td>2024 est.</td></tr><tr class=\"content-row\"><td>77</td><td><a class=\"text-button\" href=\"/the-world-factbook/countries/bosnia-and-herzegovina/\">Bosnia and Herzegovina</a></td><td>78.5</td><td>2024 est.</td></tr><tr class=\"content-row\"><td>78</td><td><a class=\"text-button\" href=\"/the-world-factbook/countries/aruba/\">Aruba</a></td><td>78.5</td><td>2024 est.</td></tr><tr class=\"content-row\"><td>79</td><td><a class=\"text-button\" href=\"/the-world-factbook/countries/estonia/\">Estonia</a></td><td>78.4</td><td>2024 est.</td></tr><tr class=\"content-row\"><td>80</td><td><a class=\"text-button\" href=\"/the-world-factbook/countries/antigua-and-barbuda/\">Antigua and Barbuda</a></td><td>78.3</td><td>2024 est.</td></tr><tr class=\"content-row\"><td>81</td><td><a class=\"text-button\" href=\"/the-world-factbook/countries/thailand/\">Thailand</a></td><td>78.2</td><td>2024 est.</td></tr><tr class=\"content-row\"><td>82</td><td><a class=\"text-button\" href=\"/the-world-factbook/countries/montenegro/\">Montenegro</a></td><td>78.2</td><td>2024 est.</td></tr><tr class=\"content-row\"><td>83</td><td><a class=\"text-button\" href=\"/the-world-factbook/countries/guam/\">Guam</a></td><td>78</td><td>2024 est.</td></tr><tr class=\"content-row\"><td>84</td><td><a class=\"text-button\" href=\"/the-world-factbook/countries/tonga/\">Tonga</a></td><td>78</td><td>2024 est.</td></tr><tr class=\"content-row\"><td>85</td><td><a class=\"text-button\" href=\"/the-world-factbook/countries/algeria/\">Algeria</a></td><td>77.9</td><td>2024 est.</td></tr><tr class=\"content-row\"><td>86</td><td><a class=\"text-button\" href=\"/the-world-factbook/countries/croatia/\">Croatia</a></td><td>77.7</td><td>2024 est.</td></tr><tr class=\"content-row\"><td>87</td><td><a class=\"text-button\" href=\"/the-world-factbook/countries/libya/\">Libya</a></td><td>77.7</td><td>2024 est.</td></tr><tr class=\"content-row\"><td>88</td><td><a class=\"text-button\" href=\"/the-world-factbook/countries/cook-islands/\">Cook Islands</a></td><td>77.6</td><td>2024 est.</td></tr><tr class=\"content-row\"><td>89</td><td><a class=\"text-button\" href=\"/the-world-factbook/countries/saint-kitts-and-nevis/\">Saint Kitts and Nevis</a></td><td>77.6</td><td>2024 est.</td></tr><tr class=\"content-row\"><td>90</td><td><a class=\"text-button\" href=\"/the-world-factbook/countries/maldives/\">Maldives</a></td><td>77.4</td><td>2024 est.</td></tr><tr class=\"content-row\"><td>91</td><td><a class=\"text-button\" href=\"/the-world-factbook/countries/oman/\">Oman</a></td><td>77.4</td><td>2024 est.</td></tr><tr class=\"content-row\"><td>92</td><td><a class=\"text-button\" href=\"/the-world-factbook/countries/north-macedonia/\">North Macedonia</a></td><td>77.3</td><td>2024 est.</td></tr><tr class=\"content-row\"><td>93</td><td><a class=\"text-button\" href=\"/the-world-factbook/countries/tunisia/\">Tunisia</a></td><td>77.3</td><td>2024 est.</td></tr><tr class=\"content-row\"><td>94</td><td><a class=\"text-button\" href=\"/the-world-factbook/countries/slovakia/\">Slovakia</a></td><td>77.2</td><td>2024 est.</td></tr><tr class=\"content-row\"><td>95</td><td><a class=\"text-button\" href=\"/the-world-factbook/countries/solomon-islands/\">Solomon Islands</a></td><td>77.2</td><td>2024 est.</td></tr><tr class=\"content-row\"><td>96</td><td><a class=\"text-button\" href=\"/the-world-factbook/countries/saint-vincent-and-the-grenadines/\">Saint Vincent and the Grenadines</a></td><td>77.2</td><td>2024 est.</td></tr><tr class=\"content-row\"><td>97</td><td><a class=\"text-button\" href=\"/the-world-factbook/countries/saudi-arabia/\">Saudi Arabia</a></td><td>77.2</td><td>2024 est.</td></tr><tr class=\"content-row\"><td>98</td><td><a class=\"text-button\" href=\"/the-world-factbook/countries/northern-mariana-islands/\">Northern Mariana Islands</a></td><td>77.1</td><td>2024 est.</td></tr><tr class=\"content-row\"><td>99</td><td><a class=\"text-button\" href=\"/the-world-factbook/countries/romania/\">Romania</a></td><td>76.9</td><td>2024 est.</td></tr><tr class=\"content-row\"><td>100</td><td><a class=\"text-button\" href=\"/the-world-factbook/countries/sri-lanka/\">Sri Lanka</a></td><td>76.8</td><td>2024 est.</td></tr><tr class=\"content-row\"><td>101</td><td><a class=\"text-button\" href=\"/the-world-factbook/countries/poland/\">Poland</a></td><td>76.7</td><td>2024 est.</td></tr><tr class=\"content-row\"><td>102</td><td><a class=\"text-button\" href=\"/the-world-factbook/countries/armenia/\">Armenia</a></td><td>76.7</td><td>2024 est.</td></tr><tr class=\"content-row\"><td>103</td><td><a class=\"text-button\" href=\"/the-world-factbook/countries/turkey-turkiye/\">Turkey (Turkiye)</a></td><td>76.7</td><td>2024 est.</td></tr><tr class=\"content-row\"><td>104</td><td><a class=\"text-button\" href=\"/the-world-factbook/countries/bahamas-the/\">Bahamas, The</a></td><td>76.7</td><td>2024 est.</td></tr><tr class=\"content-row\"><td>105</td><td><a class=\"text-button\" href=\"/the-world-factbook/countries/seychelles/\">Seychelles</a></td><td>76.6</td><td>2024 est.</td></tr><tr class=\"content-row\"><td>106</td><td><a class=\"text-button\" href=\"/the-world-factbook/countries/malaysia/\">Malaysia</a></td><td>76.6</td><td>2024 est.</td></tr><tr class=\"content-row\"><td>107</td><td><a class=\"text-button\" href=\"/the-world-factbook/countries/trinidad-and-tobago/\">Trinidad and Tobago</a></td><td>76.5</td><td>2024 est.</td></tr><tr class=\"content-row\"><td>108</td><td><a class=\"text-button\" href=\"/the-world-factbook/countries/west-bank/\">West Bank</a></td><td>76.5</td><td>2024 est.</td></tr><tr class=\"content-row\"><td>109</td><td><a class=\"text-button\" href=\"/the-world-factbook/countries/jordan/\">Jordan</a></td><td>76.5</td><td>2024 est.</td></tr><tr class=\"content-row\"><td>110</td><td><a class=\"text-button\" href=\"/the-world-factbook/countries/latvia/\">Latvia</a></td><td>76.4</td><td>2024 est.</td></tr><tr class=\"content-row\"><td>111</td><td><a class=\"text-button\" href=\"/the-world-factbook/countries/jamaica/\">Jamaica</a></td><td>76.3</td><td>2024 est.</td></tr><tr class=\"content-row\"><td>112</td><td><a class=\"text-button\" href=\"/the-world-factbook/countries/grenada/\">Grenada</a></td><td>76.3</td><td>2024 est.</td></tr><tr class=\"content-row\"><td>113</td><td><a class=\"text-button\" href=\"/the-world-factbook/countries/brazil/\">Brazil</a></td><td>76.3</td><td>2024 est.</td></tr><tr class=\"content-row\"><td>114</td><td><a class=\"text-button\" href=\"/the-world-factbook/countries/uzbekistan/\">Uzbekistan</a></td><td>76.2</td><td>2024 est.</td></tr><tr class=\"content-row\"><td>115</td><td><a class=\"text-button\" href=\"/the-world-factbook/countries/vietnam/\">Vietnam</a></td><td>76.1</td><td>2024 est.</td></tr><tr class=\"content-row\"><td>116</td><td><a class=\"text-button\" href=\"/the-world-factbook/countries/montserrat/\">Montserrat</a></td><td>76.1</td><td>2024 est.</td></tr><tr class=\"content-row\"><td>117</td><td><a class=\"text-button\" href=\"/the-world-factbook/countries/lithuania/\">Lithuania</a></td><td>76.1</td><td>2024 est.</td></tr><tr class=\"content-row\"><td>118</td><td><a class=\"text-button\" href=\"/the-world-factbook/countries/bulgaria/\">Bulgaria</a></td><td>76.1</td><td>2024 est.</td></tr><tr class=\"content-row\"><td>119</td><td><a class=\"text-button\" href=\"/the-world-factbook/countries/hungary/\">Hungary</a></td><td>76</td><td>2024 est.</td></tr><tr class=\"content-row\"><td>120</td><td><a class=\"text-button\" href=\"/the-world-factbook/countries/azerbaijan/\">Azerbaijan</a></td><td>75.9</td><td>2024 est.</td></tr><tr class=\"content-row\"><td>121</td><td><a class=\"text-button\" href=\"/the-world-factbook/countries/el-salvador/\">El Salvador</a></td><td>75.9</td><td>2024 est.</td></tr><tr class=\"content-row\"><td>122</td><td><a class=\"text-button\" href=\"/the-world-factbook/countries/american-samoa/\">American Samoa</a></td><td>75.8</td><td>2024 est.</td></tr><tr class=\"content-row\"><td>123</td><td><a class=\"text-button\" href=\"/the-world-factbook/countries/vanuatu/\">Vanuatu</a></td><td>75.7</td><td>2024 est.</td></tr><tr class=\"content-row\"><td>124</td><td><a class=\"text-button\" href=\"/the-world-factbook/countries/samoa/\">Samoa</a></td><td>75.7</td><td>2024 est.</td></tr><tr class=\"content-row\"><td>125</td><td><a class=\"text-button\" href=\"/the-world-factbook/countries/iran/\">Iran</a></td><td>75.6</td><td>2024 est.</td></tr><tr class=\"content-row\"><td>126</td><td><a class=\"text-button\" href=\"/the-world-factbook/countries/gaza-strip/\">Gaza Strip</a></td><td>75.5</td><td>2024 est.</td></tr><tr class=\"content-row\"><td>127</td><td><a class=\"text-button\" href=\"/the-world-factbook/countries/mauritius/\">Mauritius</a></td><td>75.4</td><td>2024 est.</td></tr><tr class=\"content-row\"><td>128</td><td><a class=\"text-button\" href=\"/the-world-factbook/countries/serbia/\">Serbia</a></td><td>75.3</td><td>2024 est.</td></tr><tr class=\"content-row\"><td>129</td><td><a class=\"text-button\" href=\"/the-world-factbook/countries/bangladesh/\">Bangladesh</a></td><td>75.2</td><td>2024 est.</td></tr><tr class=\"content-row\"><td>130</td><td><a class=\"text-button\" href=\"/the-world-factbook/countries/marshall-islands/\">Marshall Islands</a></td><td>75.2</td><td>2024 est.</td></tr><tr class=\"content-row\"><td>131</td><td><a class=\"text-button\" href=\"/the-world-factbook/countries/palau/\">Palau</a></td><td>75.2</td><td>2024 est.</td></tr><tr class=\"content-row\"><td>132</td><td><a class=\"text-button\" href=\"/the-world-factbook/countries/egypt/\">Egypt</a></td><td>75</td><td>2024 est.</td></tr><tr class=\"content-row\"><td>133</td><td><a class=\"text-button\" href=\"/the-world-factbook/countries/micronesia-federated-states-of/\">Micronesia, Federated States of</a></td><td>75</td><td>2024 est.</td></tr><tr class=\"content-row\"><td>134</td><td><a class=\"text-button\" href=\"/the-world-factbook/countries/colombia/\">Colombia</a></td><td>74.9</td><td>2024 est.</td></tr><tr class=\"content-row\"><td>135</td><td><a class=\"text-button\" href=\"/the-world-factbook/countries/ecuador/\">Ecuador</a></td><td>74.9</td><td>2024 est.</td></tr><tr class=\"content-row\"><td>136</td><td><a class=\"text-button\" href=\"/the-world-factbook/countries/fiji/\">Fiji</a></td><td>74.8</td><td>2024 est.</td></tr><tr class=\"content-row\"><td>137</td><td><a class=\"text-button\" href=\"/the-world-factbook/countries/syria/\">Syria</a></td><td>74.8</td><td>2024 est.</td></tr><tr class=\"content-row\"><td>138</td><td><a class=\"text-button\" href=\"/the-world-factbook/countries/belarus/\">Belarus</a></td><td>74.7</td><td>2024 est.</td></tr><tr class=\"content-row\"><td>139</td><td><a class=\"text-button\" href=\"/the-world-factbook/countries/nicaragua/\">Nicaragua</a></td><td>74.7</td><td>2024 est.</td></tr><tr class=\"content-row\"><td>140</td><td><a class=\"text-button\" href=\"/the-world-factbook/countries/mexico/\">Mexico</a></td><td>74.6</td><td>2024 est.</td></tr><tr class=\"content-row\"><td>141</td><td><a class=\"text-button\" href=\"/the-world-factbook/countries/greenland/\">Greenland</a></td><td>74.5</td><td>2024 est.</td></tr><tr class=\"content-row\"><td>142</td><td><a class=\"text-button\" href=\"/the-world-factbook/countries/venezuela/\">Venezuela</a></td><td>74.5</td><td>2024 est.</td></tr><tr class=\"content-row\"><td>143</td><td><a class=\"text-button\" href=\"/the-world-factbook/countries/belize/\">Belize</a></td><td>74.3</td><td>2024 est.</td></tr><tr class=\"content-row\"><td>144</td><td><a class=\"text-button\" href=\"/the-world-factbook/countries/cabo-verde/\">Cabo Verde</a></td><td>74.3</td><td>2024 est.</td></tr><tr class=\"content-row\"><td>145</td><td><a class=\"text-button\" href=\"/the-world-factbook/countries/morocco/\">Morocco</a></td><td>74.2</td><td>2024 est.</td></tr><tr class=\"content-row\"><td>146</td><td><a class=\"text-button\" href=\"/the-world-factbook/countries/iraq/\">Iraq</a></td><td>73.7</td><td>2024 est.</td></tr><tr class=\"content-row\"><td>147</td><td><a class=\"text-button\" href=\"/the-world-factbook/countries/bhutan/\">Bhutan</a></td><td>73.7</td><td>2024 est.</td></tr><tr class=\"content-row\"><td>148</td><td><a class=\"text-button\" href=\"/the-world-factbook/countries/indonesia/\">Indonesia</a></td><td>73.6</td><td>2024 est.</td></tr><tr class=\"content-row\"><td>149</td><td><a class=\"text-button\" href=\"/the-world-factbook/countries/guatemala/\">Guatemala</a></td><td>73.5</td><td>2024 est.</td></tr><tr class=\"content-row\"><td>150</td><td><a class=\"text-button\" href=\"/the-world-factbook/countries/korea-north/\">Korea, North</a></td><td>73.5</td><td>2024 est.</td></tr><tr class=\"content-row\"><td>151</td><td><a class=\"text-button\" href=\"/the-world-factbook/countries/kazakhstan/\">Kazakhstan</a></td><td>73.3</td><td>2024 est.</td></tr><tr class=\"content-row\"><td>152</td><td><a class=\"text-button\" href=\"/the-world-factbook/countries/honduras/\">Honduras</a></td><td>73.1</td><td>2024 est.</td></tr><tr class=\"content-row\"><td>153</td><td><a class=\"text-button\" href=\"/the-world-factbook/countries/kosovo/\">Kosovo</a></td><td>73.1</td><td>2024 est.</td></tr><tr class=\"content-row\"><td>154</td><td><a class=\"text-button\" href=\"/the-world-factbook/countries/nepal/\">Nepal</a></td><td>73</td><td>2024 est.</td></tr><tr class=\"content-row\"><td>155</td><td><a class=\"text-button\" href=\"/the-world-factbook/countries/malawi/\">Malawi</a></td><td>73</td><td>2024 est.</td></tr><tr class=\"content-row\"><td>156</td><td><a class=\"text-button\" href=\"/the-world-factbook/countries/congo-republic-of-the/\">Congo, Republic of the</a></td><td>72.9</td><td>2024 est.</td></tr><tr class=\"content-row\"><td>157</td><td><a class=\"text-button\" href=\"/the-world-factbook/countries/kyrgyzstan/\">Kyrgyzstan</a></td><td>72.9</td><td>2024 est.</td></tr><tr class=\"content-row\"><td>158</td><td><a class=\"text-button\" href=\"/the-world-factbook/countries/georgia/\">Georgia</a></td><td>72.8</td><td>2024 est.</td></tr><tr class=\"content-row\"><td>159</td><td><a class=\"text-button\" href=\"/the-world-factbook/countries/suriname/\">Suriname</a></td><td>72.7</td><td>2024 est.</td></tr><tr class=\"content-row\"><td>160</td><td><a class=\"text-button\" href=\"/the-world-factbook/countries/dominican-republic/\">Dominican Republic</a></td><td>72.6</td><td>2024 est.</td></tr><tr class=\"content-row\"><td>161</td><td><a class=\"text-button\" href=\"/the-world-factbook/countries/bolivia/\">Bolivia</a></td><td>72.5</td><td>2024 est.</td></tr><tr class=\"content-row\"><td>162</td><td><a class=\"text-button\" href=\"/the-world-factbook/countries/turkmenistan/\">Turkmenistan</a></td><td>72.4</td><td>2024 est.</td></tr><tr class=\"content-row\"><td>163</td><td><a class=\"text-button\" href=\"/the-world-factbook/countries/guyana/\">Guyana</a></td><td>72.4</td><td>2024 est.</td></tr><tr class=\"content-row\"><td>164</td><td><a class=\"text-button\" href=\"/the-world-factbook/countries/russia/\">Russia</a></td><td>72.3</td><td>2024 est.</td></tr><tr class=\"content-row\"><td>165</td><td><a class=\"text-button\" href=\"/the-world-factbook/countries/togo/\">Togo</a></td><td>72.1</td><td>2024 est.</td></tr><tr class=\"content-row\"><td>166</td><td><a class=\"text-button\" href=\"/the-world-factbook/countries/south-africa/\">South Africa</a></td><td>71.9</td><td>2024 est.</td></tr><tr class=\"content-row\"><td>167</td><td><a class=\"text-button\" href=\"/the-world-factbook/countries/tajikistan/\">Tajikistan</a></td><td>71.9</td><td>2024 est.</td></tr><tr class=\"content-row\"><td>168</td><td><a class=\"text-button\" href=\"/the-world-factbook/countries/mongolia/\">Mongolia</a></td><td>71.9</td><td>2024 est.</td></tr><tr class=\"content-row\"><td>169</td><td><a class=\"text-button\" href=\"/the-world-factbook/countries/cambodia/\">Cambodia</a></td><td>71.4</td><td>2024 est.</td></tr><tr class=\"content-row\"><td>170</td><td><a class=\"text-button\" href=\"/the-world-factbook/countries/philippines/\">Philippines</a></td><td>70.8</td><td>2024 est.</td></tr><tr class=\"content-row\"><td>171</td><td><a class=\"text-button\" href=\"/the-world-factbook/countries/tanzania/\">Tanzania</a></td><td>70.8</td><td>2024 est.</td></tr><tr class=\"content-row\"><td>172</td><td><a class=\"text-button\" href=\"/the-world-factbook/countries/senegal/\">Senegal</a></td><td>70.6</td><td>2024 est.</td></tr><tr class=\"content-row\"><td>173</td><td><a class=\"text-button\" href=\"/the-world-factbook/countries/ukraine/\">Ukraine</a></td><td>70.5</td><td>2024 est.</td></tr><tr class=\"content-row\"><td>174</td><td><a class=\"text-button\" href=\"/the-world-factbook/countries/timor-leste/\">Timor-Leste</a></td><td>70.5</td><td>2024 est.</td></tr><tr class=\"content-row\"><td>175</td><td><a class=\"text-button\" href=\"/the-world-factbook/countries/gabon/\">Gabon</a></td><td>70.4</td><td>2024 est.</td></tr><tr class=\"content-row\"><td>176</td><td><a class=\"text-button\" href=\"/the-world-factbook/countries/kenya/\">Kenya</a></td><td>70.4</td><td>2024 est.</td></tr><tr class=\"content-row\"><td>177</td><td><a class=\"text-button\" href=\"/the-world-factbook/countries/burma/\">Burma</a></td><td>70.3</td><td>2024 est.</td></tr><tr class=\"content-row\"><td>178</td><td><a class=\"text-button\" href=\"/the-world-factbook/countries/pakistan/\">Pakistan</a></td><td>70.3</td><td>2024 est.</td></tr><tr class=\"content-row\"><td>179</td><td><a class=\"text-button\" href=\"/the-world-factbook/countries/moldova/\">Moldova</a></td><td>70.1</td><td>2024 est.</td></tr><tr class=\"content-row\"><td>180</td><td><a class=\"text-button\" href=\"/the-world-factbook/countries/ghana/\">Ghana</a></td><td>70.1</td><td>2024 est.</td></tr><tr class=\"content-row\"><td>181</td><td><a class=\"text-button\" href=\"/the-world-factbook/countries/papua-new-guinea/\">Papua New Guinea</a></td><td>70.1</td><td>2024 est.</td></tr><tr class=\"content-row\"><td>182</td><td><a class=\"text-button\" href=\"/the-world-factbook/countries/uganda/\">Uganda</a></td><td>69.7</td><td>2024 est.</td></tr><tr class=\"content-row\"><td>183</td><td><a class=\"text-button\" href=\"/the-world-factbook/countries/laos/\">Laos</a></td><td>69</td><td>2024 est.</td></tr><tr class=\"content-row\"><td>184</td><td><a class=\"text-button\" href=\"/the-world-factbook/countries/tuvalu/\">Tuvalu</a></td><td>69</td><td>2024 est.</td></tr><tr class=\"content-row\"><td>185</td><td><a class=\"text-button\" href=\"/the-world-factbook/countries/peru/\">Peru</a></td><td>68.9</td><td>2024 est.</td></tr><tr class=\"content-row\"><td>186</td><td><a class=\"text-button\" href=\"/the-world-factbook/countries/madagascar/\">Madagascar</a></td><td>68.8</td><td>2024 est.</td></tr><tr class=\"content-row\"><td>187</td><td><a class=\"text-button\" href=\"/the-world-factbook/countries/nauru/\">Nauru</a></td><td>68.6</td><td>2024 est.</td></tr><tr class=\"content-row\"><td>188</td><td><a class=\"text-button\" href=\"/the-world-factbook/countries/kiribati/\">Kiribati</a></td><td>68.5</td><td>2024 est.</td></tr><tr class=\"content-row\"><td>189</td><td><a class=\"text-button\" href=\"/the-world-factbook/countries/gambia-the/\">Gambia, The</a></td><td>68.4</td><td>2024 est.</td></tr><tr class=\"content-row\"><td>190</td><td><a class=\"text-button\" href=\"/the-world-factbook/countries/india/\">India</a></td><td>68.2</td><td>2024 est.</td></tr><tr class=\"content-row\"><td>191</td><td><a class=\"text-button\" href=\"/the-world-factbook/countries/yemen/\">Yemen</a></td><td>68.2</td><td>2024 est.</td></tr><tr class=\"content-row\"><td>192</td><td><a class=\"text-button\" href=\"/the-world-factbook/countries/burundi/\">Burundi</a></td><td>68.1</td><td>2024 est.</td></tr><tr class=\"content-row\"><td>193</td><td><a class=\"text-button\" href=\"/the-world-factbook/countries/comoros/\">Comoros</a></td><td>67.8</td><td>2024 est.</td></tr><tr class=\"content-row\"><td>194</td><td><a class=\"text-button\" href=\"/the-world-factbook/countries/sudan/\">Sudan</a></td><td>67.8</td><td>2024 est.</td></tr><tr class=\"content-row\"><td>195</td><td><a class=\"text-button\" href=\"/the-world-factbook/countries/sao-tome-and-principe/\">Sao Tome and Principe</a></td><td>67.7</td><td>2024 est.</td></tr><tr class=\"content-row\"><td>196</td><td><a class=\"text-button\" href=\"/the-world-factbook/countries/ethiopia/\">Ethiopia</a></td><td>67.7</td><td>2024 est.</td></tr><tr class=\"content-row\"><td>197</td><td><a class=\"text-button\" href=\"/the-world-factbook/countries/eritrea/\">Eritrea</a></td><td>67.5</td><td>2024 est.</td></tr><tr class=\"content-row\"><td>198</td><td><a class=\"text-button\" href=\"/the-world-factbook/countries/zimbabwe/\">Zimbabwe</a></td><td>67.2</td><td>2024 est.</td></tr><tr class=\"content-row\"><td>199</td><td><a class=\"text-button\" href=\"/the-world-factbook/countries/zambia/\">Zambia</a></td><td>66.9</td><td>2024 est.</td></tr><tr class=\"content-row\"><td>200</td><td><a class=\"text-button\" href=\"/the-world-factbook/countries/rwanda/\">Rwanda</a></td><td>66.6</td><td>2024 est.</td></tr><tr class=\"content-row\"><td>201</td><td><a class=\"text-button\" href=\"/the-world-factbook/countries/botswana/\">Botswana</a></td><td>66.4</td><td>2024 est.</td></tr><tr class=\"content-row\"><td>202</td><td><a class=\"text-button\" href=\"/the-world-factbook/countries/djibouti/\">Djibouti</a></td><td>65.9</td><td>2024 est.</td></tr><tr class=\"content-row\"><td>203</td><td><a class=\"text-button\" href=\"/the-world-factbook/countries/namibia/\">Namibia</a></td><td>65.9</td><td>2024 est.</td></tr><tr class=\"content-row\"><td>204</td><td><a class=\"text-button\" href=\"/the-world-factbook/countries/mauritania/\">Mauritania</a></td><td>65.9</td><td>2024 est.</td></tr><tr class=\"content-row\"><td>205</td><td><a class=\"text-button\" href=\"/the-world-factbook/countries/haiti/\">Haiti</a></td><td>65.6</td><td>2024 est.</td></tr><tr class=\"content-row\"><td>206</td><td><a class=\"text-button\" href=\"/the-world-factbook/countries/guinea/\">Guinea</a></td><td>64.6</td><td>2024 est.</td></tr><tr class=\"content-row\"><td>207</td><td><a class=\"text-button\" href=\"/the-world-factbook/countries/guinea-bissau/\">Guinea-Bissau</a></td><td>64.5</td><td>2024 est.</td></tr><tr class=\"content-row\"><td>208</td><td><a class=\"text-button\" href=\"/the-world-factbook/countries/burkina-faso/\">Burkina Faso</a></td><td>64.2</td><td>2024 est.</td></tr><tr class=\"content-row\"><td>209</td><td><a class=\"text-button\" href=\"/the-world-factbook/countries/cameroon/\">Cameroon</a></td><td>64.2</td><td>2024 est.</td></tr><tr class=\"content-row\"><td>210</td><td><a class=\"text-button\" href=\"/the-world-factbook/countries/equatorial-guinea/\">Equatorial Guinea</a></td><td>63.9</td><td>2024 est.</td></tr><tr class=\"content-row\"><td>211</td><td><a class=\"text-button\" href=\"/the-world-factbook/countries/mali/\">Mali</a></td><td>63.2</td><td>2024 est.</td></tr><tr class=\"content-row\"><td>212</td><td><a class=\"text-button\" href=\"/the-world-factbook/countries/cote-divoire/\">Cote d'Ivoire</a></td><td>63.2</td><td>2024 est.</td></tr><tr class=\"content-row\"><td>213</td><td><a class=\"text-button\" href=\"/the-world-factbook/countries/benin/\">Benin</a></td><td>63</td><td>2024 est.</td></tr><tr class=\"content-row\"><td>214</td><td><a class=\"text-button\" href=\"/the-world-factbook/countries/angola/\">Angola</a></td><td>62.9</td><td>2024 est.</td></tr><tr class=\"content-row\"><td>215</td><td><a class=\"text-button\" href=\"/the-world-factbook/countries/congo-democratic-republic-of-the/\">Congo, Democratic Republic of the</a></td><td>62.6</td><td>2024 est.</td></tr><tr class=\"content-row\"><td>216</td><td><a class=\"text-button\" href=\"/the-world-factbook/countries/nigeria/\">Nigeria</a></td><td>62.2</td><td>2024 est.</td></tr><tr class=\"content-row\"><td>217</td><td><a class=\"text-button\" href=\"/the-world-factbook/countries/liberia/\">Liberia</a></td><td>61.6</td><td>2024 est.</td></tr><tr class=\"content-row\"><td>218</td><td><a class=\"text-button\" href=\"/the-world-factbook/countries/niger/\">Niger</a></td><td>60.9</td><td>2024 est.</td></tr><tr class=\"content-row\"><td>219</td><td><a class=\"text-button\" href=\"/the-world-factbook/countries/eswatini/\">Eswatini</a></td><td>60.7</td><td>2024 est.</td></tr><tr class=\"content-row\"><td>220</td><td><a class=\"text-button\" href=\"/the-world-factbook/countries/south-sudan/\">South Sudan</a></td><td>60.3</td><td>2024 est.</td></tr><tr class=\"content-row\"><td>221</td><td><a class=\"text-button\" href=\"/the-world-factbook/countries/lesotho/\">Lesotho</a></td><td>60.2</td><td>2024 est.</td></tr><tr class=\"content-row\"><td>222</td><td><a class=\"text-button\" href=\"/the-world-factbook/countries/chad/\">Chad</a></td><td>60</td><td>2024 est.</td></tr><tr class=\"content-row\"><td>223</td><td><a class=\"text-button\" href=\"/the-world-factbook/countries/sierra-leone/\">Sierra Leone</a></td><td>59.4</td><td>2024 est.</td></tr><tr class=\"content-row\"><td>224</td><td><a class=\"text-button\" href=\"/the-world-factbook/countries/mozambique/\">Mozambique</a></td><td>58.3</td><td>2024 est.</td></tr><tr class=\"content-row\"><td>225</td><td><a class=\"text-button\" href=\"/the-world-factbook/countries/somalia/\">Somalia</a></td><td>56.5</td><td>2024 est.</td></tr><tr class=\"content-row\"><td>226</td><td><a class=\"text-button\" href=\"/the-world-factbook/countries/central-african-republic/\">Central African Republic</a></td><td>56.4</td><td>2024 est.</td></tr><tr class=\"content-row\"><td>227</td><td><a class=\"text-button\" href=\"/the-world-factbook/countries/afghanistan/\">Afghanistan</a></td><td>54.4</td><td>2024 est.</td></tr></tbody></table>"
      ]
     },
     "execution_count": 11,
     "metadata": {},
     "output_type": "execute_result"
    }
   ],
   "source": [
    "info.find('table')"
   ]
  },
  {
   "cell_type": "code",
   "execution_count": 13,
   "id": "3bfce615-4270-451e-b555-1ef1c26564af",
   "metadata": {},
   "outputs": [
    {
     "data": {
      "text/plain": [
       "<table class=\"content-table table-auto\"><thead><tr class=\"header-row\"><th>Rank</th><th>Country</th><th> years</th><th>Date of Information</th></tr></thead><tbody><tr class=\"content-row\"><td>1</td><td><a class=\"text-button\" href=\"/the-world-factbook/countries/monaco/\">Monaco</a></td><td>89.8</td><td>2024 est.</td></tr><tr class=\"content-row\"><td>2</td><td><a class=\"text-button\" href=\"/the-world-factbook/countries/singapore/\">Singapore</a></td><td>86.7</td><td>2024 est.</td></tr><tr class=\"content-row\"><td>3</td><td><a class=\"text-button\" href=\"/the-world-factbook/countries/macau/\">Macau</a></td><td>85.3</td><td>2024 est.</td></tr><tr class=\"content-row\"><td>4</td><td><a class=\"text-button\" href=\"/the-world-factbook/countries/japan/\">Japan</a></td><td>85.2</td><td>2024 est.</td></tr><tr class=\"content-row\"><td>5</td><td><a class=\"text-button\" href=\"/the-world-factbook/countries/canada/\">Canada</a></td><td>84.2</td><td>2024 est.</td></tr><tr class=\"content-row\"><td>6</td><td><a class=\"text-button\" href=\"/the-world-factbook/countries/san-marino/\">San Marino</a></td><td>84.2</td><td>2024 est.</td></tr><tr class=\"content-row\"><td>7</td><td><a class=\"text-button\" href=\"/the-world-factbook/countries/hong-kong/\">Hong Kong</a></td><td>84</td><td>2024 est.</td></tr><tr class=\"content-row\"><td>8</td><td><a class=\"text-button\" href=\"/the-world-factbook/countries/iceland/\">Iceland</a></td><td>84</td><td>2024 est.</td></tr><tr class=\"content-row\"><td>9</td><td><a class=\"text-button\" href=\"/the-world-factbook/countries/switzerland/\">Switzerland</a></td><td>83.9</td><td>2024 est.</td></tr><tr class=\"content-row\"><td>10</td><td><a class=\"text-button\" href=\"/the-world-factbook/countries/andorra/\">Andorra</a></td><td>83.8</td><td>2024 est.</td></tr><tr class=\"content-row\"><td>11</td><td><a class=\"text-button\" href=\"/the-world-factbook/countries/guernsey/\">Guernsey</a></td><td>83.6</td><td>2024 est.</td></tr><tr class=\"content-row\"><td>12</td><td><a class=\"text-button\" href=\"/the-world-factbook/countries/malta/\">Malta</a></td><td>83.6</td><td>2024 est.</td></tr><tr class=\"content-row\"><td>13</td><td><a class=\"text-button\" href=\"/the-world-factbook/countries/australia/\">Australia</a></td><td>83.5</td><td>2024 est.</td></tr><tr class=\"content-row\"><td>14</td><td><a class=\"text-button\" href=\"/the-world-factbook/countries/luxembourg/\">Luxembourg</a></td><td>83.4</td><td>2024 est.</td></tr><tr class=\"content-row\"><td>15</td><td><a class=\"text-button\" href=\"/the-world-factbook/countries/korea-south/\">Korea, South</a></td><td>83.4</td><td>2024 est.</td></tr><tr class=\"content-row\"><td>16</td><td><a class=\"text-button\" href=\"/the-world-factbook/countries/israel/\">Israel</a></td><td>83.1</td><td>2024 est.</td></tr><tr class=\"content-row\"><td>17</td><td><a class=\"text-button\" href=\"/the-world-factbook/countries/jersey/\">Jersey</a></td><td>83</td><td>2024 est.</td></tr><tr class=\"content-row\"><td>18</td><td><a class=\"text-button\" href=\"/the-world-factbook/countries/spain/\">Spain</a></td><td>83</td><td>2024 est.</td></tr><tr class=\"content-row\"><td>19</td><td><a class=\"text-button\" href=\"/the-world-factbook/countries/italy/\">Italy</a></td><td>83</td><td>2024 est.</td></tr><tr class=\"content-row\"><td>20</td><td><a class=\"text-button\" href=\"/the-world-factbook/countries/liechtenstein/\">Liechtenstein</a></td><td>83</td><td>2024 est.</td></tr><tr class=\"content-row\"><td>21</td><td><a class=\"text-button\" href=\"/the-world-factbook/countries/sweden/\">Sweden</a></td><td>82.9</td><td>2024 est.</td></tr><tr class=\"content-row\"><td>22</td><td><a class=\"text-button\" href=\"/the-world-factbook/countries/norway/\">Norway</a></td><td>82.9</td><td>2024 est.</td></tr><tr class=\"content-row\"><td>23</td><td><a class=\"text-button\" href=\"/the-world-factbook/countries/new-zealand/\">New Zealand</a></td><td>82.9</td><td>2024 est.</td></tr><tr class=\"content-row\"><td>24</td><td><a class=\"text-button\" href=\"/the-world-factbook/countries/austria/\">Austria</a></td><td>82.7</td><td>2024 est.</td></tr><tr class=\"content-row\"><td>25</td><td><a class=\"text-button\" href=\"/the-world-factbook/countries/france/\">France</a></td><td>82.6</td><td>2024 est.</td></tr><tr class=\"content-row\"><td>26</td><td><a class=\"text-button\" href=\"/the-world-factbook/countries/anguilla/\">Anguilla</a></td><td>82.6</td><td>2024 est.</td></tr><tr class=\"content-row\"><td>27</td><td><a class=\"text-button\" href=\"/the-world-factbook/countries/cayman-islands/\">Cayman Islands</a></td><td>82.5</td><td>2024 est.</td></tr><tr class=\"content-row\"><td>28</td><td><a class=\"text-button\" href=\"/the-world-factbook/countries/isle-of-man/\">Isle of Man</a></td><td>82.5</td><td>2024 est.</td></tr><tr class=\"content-row\"><td>29</td><td><a class=\"text-button\" href=\"/the-world-factbook/countries/bermuda/\">Bermuda</a></td><td>82.5</td><td>2024 est.</td></tr><tr class=\"content-row\"><td>30</td><td><a class=\"text-button\" href=\"/the-world-factbook/countries/belgium/\">Belgium</a></td><td>82.3</td><td>2024 est.</td></tr><tr class=\"content-row\"><td>31</td><td><a class=\"text-button\" href=\"/the-world-factbook/countries/finland/\">Finland</a></td><td>82.2</td><td>2024 est.</td></tr><tr class=\"content-row\"><td>32</td><td><a class=\"text-button\" href=\"/the-world-factbook/countries/slovenia/\">Slovenia</a></td><td>82.2</td><td>2024 est.</td></tr><tr class=\"content-row\"><td>33</td><td><a class=\"text-button\" href=\"/the-world-factbook/countries/united-kingdom/\">United Kingdom</a></td><td>82.2</td><td>2024 est.</td></tr><tr class=\"content-row\"><td>34</td><td><a class=\"text-button\" href=\"/the-world-factbook/countries/puerto-rico/\">Puerto Rico</a></td><td>82.1</td><td>2024 est.</td></tr><tr class=\"content-row\"><td>35</td><td><a class=\"text-button\" href=\"/the-world-factbook/countries/denmark/\">Denmark</a></td><td>82.1</td><td>2024 est.</td></tr><tr class=\"content-row\"><td>36</td><td><a class=\"text-button\" href=\"/the-world-factbook/countries/ireland/\">Ireland</a></td><td>82</td><td>2024 est.</td></tr><tr class=\"content-row\"><td>37</td><td><a class=\"text-button\" href=\"/the-world-factbook/countries/portugal/\">Portugal</a></td><td>81.9</td><td>2024 est.</td></tr><tr class=\"content-row\"><td>38</td><td><a class=\"text-button\" href=\"/the-world-factbook/countries/germany/\">Germany</a></td><td>81.9</td><td>2024 est.</td></tr><tr class=\"content-row\"><td>39</td><td><a class=\"text-button\" href=\"/the-world-factbook/countries/netherlands/\">Netherlands</a></td><td>81.9</td><td>2024 est.</td></tr><tr class=\"content-row\"><td>40</td><td><a class=\"text-button\" href=\"/the-world-factbook/countries/greece/\">Greece</a></td><td>81.9</td><td>2024 est.</td></tr><tr class=\"content-row\"><td>41</td><td><a class=\"text-button\" href=\"/the-world-factbook/countries/saint-pierre-and-miquelon/\">Saint Pierre and Miquelon</a></td><td>81.8</td><td>2024 est.</td></tr><tr class=\"content-row\"><td>42</td><td><a class=\"text-button\" href=\"/the-world-factbook/countries/faroe-islands/\">Faroe Islands</a></td><td>81.7</td><td>2024 est.</td></tr><tr class=\"content-row\"><td>43</td><td><a class=\"text-button\" href=\"/the-world-factbook/countries/taiwan/\">Taiwan</a></td><td>81.6</td><td>2024 est.</td></tr><tr class=\"content-row\"><td>44</td><td><a class=\"text-button\" href=\"/the-world-factbook/countries/turks-and-caicos-islands/\">Turks and Caicos Islands</a></td><td>81.3</td><td>2024 est.</td></tr><tr class=\"content-row\"><td>45</td><td><a class=\"text-button\" href=\"/the-world-factbook/countries/wallis-and-futuna/\">Wallis and Futuna</a></td><td>81.1</td><td>2024 est.</td></tr><tr class=\"content-row\"><td>46</td><td><a class=\"text-button\" href=\"/the-world-factbook/countries/saint-martin/\">Saint Martin</a></td><td>81</td><td>2024 est.</td></tr><tr class=\"content-row\"><td>47</td><td><a class=\"text-button\" href=\"/the-world-factbook/countries/saint-barthelemy/\">Saint Barthelemy</a></td><td>81</td><td>2024 est.</td></tr><tr class=\"content-row\"><td>48</td><td><a class=\"text-button\" href=\"/the-world-factbook/countries/gibraltar/\">Gibraltar</a></td><td>80.9</td><td>2024 est.</td></tr><tr class=\"content-row\"><td>49</td><td><a class=\"text-button\" href=\"/the-world-factbook/countries/united-states/\">United States</a></td><td>80.9</td><td>2024 est.</td></tr><tr class=\"content-row\"><td>50</td><td><a class=\"text-button\" href=\"/the-world-factbook/countries/saint-helena-ascension-and-tristan-da-cunha/\">Saint Helena, Ascension, and Tristan da Cunha</a></td><td>80.9</td><td>2024 est.</td></tr><tr class=\"content-row\"><td>51</td><td><a class=\"text-button\" href=\"/the-world-factbook/countries/virgin-islands/\">Virgin Islands</a></td><td>80.7</td><td>2024 est.</td></tr><tr class=\"content-row\"><td>52</td><td><a class=\"text-button\" href=\"/the-world-factbook/countries/bahrain/\">Bahrain</a></td><td>80.4</td><td>2024 est.</td></tr><tr class=\"content-row\"><td>53</td><td><a class=\"text-button\" href=\"/the-world-factbook/countries/qatar/\">Qatar</a></td><td>80.3</td><td>2024 est.</td></tr><tr class=\"content-row\"><td>54</td><td><a class=\"text-button\" href=\"/the-world-factbook/countries/costa-rica/\">Costa Rica</a></td><td>80.3</td><td>2024 est.</td></tr><tr class=\"content-row\"><td>55</td><td><a class=\"text-button\" href=\"/the-world-factbook/countries/chile/\">Chile</a></td><td>80.3</td><td>2024 est.</td></tr><tr class=\"content-row\"><td>56</td><td><a class=\"text-button\" href=\"/the-world-factbook/countries/cyprus/\">Cyprus</a></td><td>80.2</td><td>2024 est.</td></tr><tr class=\"content-row\"><td>57</td><td><a class=\"text-button\" href=\"/the-world-factbook/countries/british-virgin-islands/\">British Virgin Islands</a></td><td>80.1</td><td>2024 est.</td></tr><tr class=\"content-row\"><td>58</td><td><a class=\"text-button\" href=\"/the-world-factbook/countries/cuba/\">Cuba</a></td><td>80.1</td><td>2024 est.</td></tr><tr class=\"content-row\"><td>59</td><td><a class=\"text-button\" href=\"/the-world-factbook/countries/curacao/\">Curacao</a></td><td>79.9</td><td>2024 est.</td></tr><tr class=\"content-row\"><td>60</td><td><a class=\"text-button\" href=\"/the-world-factbook/countries/united-arab-emirates/\">United Arab Emirates</a></td><td>79.9</td><td>2024 est.</td></tr><tr class=\"content-row\"><td>61</td><td><a class=\"text-button\" href=\"/the-world-factbook/countries/albania/\">Albania</a></td><td>79.9</td><td>2024 est.</td></tr><tr class=\"content-row\"><td>62</td><td><a class=\"text-button\" href=\"/the-world-factbook/countries/sint-maarten/\">Sint Maarten</a></td><td>79.7</td><td>2024 est.</td></tr><tr class=\"content-row\"><td>63</td><td><a class=\"text-button\" href=\"/the-world-factbook/countries/kuwait/\">Kuwait</a></td><td>79.6</td><td>2024 est.</td></tr><tr class=\"content-row\"><td>64</td><td><a class=\"text-button\" href=\"/the-world-factbook/countries/saint-lucia/\">Saint Lucia</a></td><td>79.4</td><td>2024 est.</td></tr><tr class=\"content-row\"><td>65</td><td><a class=\"text-button\" href=\"/the-world-factbook/countries/new-caledonia/\">New Caledonia</a></td><td>79.3</td><td>2024 est.</td></tr><tr class=\"content-row\"><td>66</td><td><a class=\"text-button\" href=\"/the-world-factbook/countries/panama/\">Panama</a></td><td>79.2</td><td>2024 est.</td></tr><tr class=\"content-row\"><td>67</td><td><a class=\"text-button\" href=\"/the-world-factbook/countries/lebanon/\">Lebanon</a></td><td>79.2</td><td>2024 est.</td></tr><tr class=\"content-row\"><td>68</td><td><a class=\"text-button\" href=\"/the-world-factbook/countries/barbados/\">Barbados</a></td><td>79</td><td>2024 est.</td></tr><tr class=\"content-row\"><td>69</td><td><a class=\"text-button\" href=\"/the-world-factbook/countries/french-polynesia/\">French Polynesia</a></td><td>78.9</td><td>2024 est.</td></tr><tr class=\"content-row\"><td>70</td><td><a class=\"text-button\" href=\"/the-world-factbook/countries/uruguay/\">Uruguay</a></td><td>78.9</td><td>2024 est.</td></tr><tr class=\"content-row\"><td>71</td><td><a class=\"text-button\" href=\"/the-world-factbook/countries/brunei/\">Brunei</a></td><td>78.9</td><td>2024 est.</td></tr><tr class=\"content-row\"><td>72</td><td><a class=\"text-button\" href=\"/the-world-factbook/countries/argentina/\">Argentina</a></td><td>78.8</td><td>2024 est.</td></tr><tr class=\"content-row\"><td>73</td><td><a class=\"text-button\" href=\"/the-world-factbook/countries/paraguay/\">Paraguay</a></td><td>78.8</td><td>2024 est.</td></tr><tr class=\"content-row\"><td>74</td><td><a class=\"text-button\" href=\"/the-world-factbook/countries/dominica/\">Dominica</a></td><td>78.7</td><td>2024 est.</td></tr><tr class=\"content-row\"><td>75</td><td><a class=\"text-button\" href=\"/the-world-factbook/countries/china/\">China</a></td><td>78.7</td><td>2024 est.</td></tr><tr class=\"content-row\"><td>76</td><td><a class=\"text-button\" href=\"/the-world-factbook/countries/czechia/\">Czechia</a></td><td>78.6</td><td>2024 est.</td></tr><tr class=\"content-row\"><td>77</td><td><a class=\"text-button\" href=\"/the-world-factbook/countries/bosnia-and-herzegovina/\">Bosnia and Herzegovina</a></td><td>78.5</td><td>2024 est.</td></tr><tr class=\"content-row\"><td>78</td><td><a class=\"text-button\" href=\"/the-world-factbook/countries/aruba/\">Aruba</a></td><td>78.5</td><td>2024 est.</td></tr><tr class=\"content-row\"><td>79</td><td><a class=\"text-button\" href=\"/the-world-factbook/countries/estonia/\">Estonia</a></td><td>78.4</td><td>2024 est.</td></tr><tr class=\"content-row\"><td>80</td><td><a class=\"text-button\" href=\"/the-world-factbook/countries/antigua-and-barbuda/\">Antigua and Barbuda</a></td><td>78.3</td><td>2024 est.</td></tr><tr class=\"content-row\"><td>81</td><td><a class=\"text-button\" href=\"/the-world-factbook/countries/thailand/\">Thailand</a></td><td>78.2</td><td>2024 est.</td></tr><tr class=\"content-row\"><td>82</td><td><a class=\"text-button\" href=\"/the-world-factbook/countries/montenegro/\">Montenegro</a></td><td>78.2</td><td>2024 est.</td></tr><tr class=\"content-row\"><td>83</td><td><a class=\"text-button\" href=\"/the-world-factbook/countries/guam/\">Guam</a></td><td>78</td><td>2024 est.</td></tr><tr class=\"content-row\"><td>84</td><td><a class=\"text-button\" href=\"/the-world-factbook/countries/tonga/\">Tonga</a></td><td>78</td><td>2024 est.</td></tr><tr class=\"content-row\"><td>85</td><td><a class=\"text-button\" href=\"/the-world-factbook/countries/algeria/\">Algeria</a></td><td>77.9</td><td>2024 est.</td></tr><tr class=\"content-row\"><td>86</td><td><a class=\"text-button\" href=\"/the-world-factbook/countries/croatia/\">Croatia</a></td><td>77.7</td><td>2024 est.</td></tr><tr class=\"content-row\"><td>87</td><td><a class=\"text-button\" href=\"/the-world-factbook/countries/libya/\">Libya</a></td><td>77.7</td><td>2024 est.</td></tr><tr class=\"content-row\"><td>88</td><td><a class=\"text-button\" href=\"/the-world-factbook/countries/cook-islands/\">Cook Islands</a></td><td>77.6</td><td>2024 est.</td></tr><tr class=\"content-row\"><td>89</td><td><a class=\"text-button\" href=\"/the-world-factbook/countries/saint-kitts-and-nevis/\">Saint Kitts and Nevis</a></td><td>77.6</td><td>2024 est.</td></tr><tr class=\"content-row\"><td>90</td><td><a class=\"text-button\" href=\"/the-world-factbook/countries/maldives/\">Maldives</a></td><td>77.4</td><td>2024 est.</td></tr><tr class=\"content-row\"><td>91</td><td><a class=\"text-button\" href=\"/the-world-factbook/countries/oman/\">Oman</a></td><td>77.4</td><td>2024 est.</td></tr><tr class=\"content-row\"><td>92</td><td><a class=\"text-button\" href=\"/the-world-factbook/countries/north-macedonia/\">North Macedonia</a></td><td>77.3</td><td>2024 est.</td></tr><tr class=\"content-row\"><td>93</td><td><a class=\"text-button\" href=\"/the-world-factbook/countries/tunisia/\">Tunisia</a></td><td>77.3</td><td>2024 est.</td></tr><tr class=\"content-row\"><td>94</td><td><a class=\"text-button\" href=\"/the-world-factbook/countries/slovakia/\">Slovakia</a></td><td>77.2</td><td>2024 est.</td></tr><tr class=\"content-row\"><td>95</td><td><a class=\"text-button\" href=\"/the-world-factbook/countries/solomon-islands/\">Solomon Islands</a></td><td>77.2</td><td>2024 est.</td></tr><tr class=\"content-row\"><td>96</td><td><a class=\"text-button\" href=\"/the-world-factbook/countries/saint-vincent-and-the-grenadines/\">Saint Vincent and the Grenadines</a></td><td>77.2</td><td>2024 est.</td></tr><tr class=\"content-row\"><td>97</td><td><a class=\"text-button\" href=\"/the-world-factbook/countries/saudi-arabia/\">Saudi Arabia</a></td><td>77.2</td><td>2024 est.</td></tr><tr class=\"content-row\"><td>98</td><td><a class=\"text-button\" href=\"/the-world-factbook/countries/northern-mariana-islands/\">Northern Mariana Islands</a></td><td>77.1</td><td>2024 est.</td></tr><tr class=\"content-row\"><td>99</td><td><a class=\"text-button\" href=\"/the-world-factbook/countries/romania/\">Romania</a></td><td>76.9</td><td>2024 est.</td></tr><tr class=\"content-row\"><td>100</td><td><a class=\"text-button\" href=\"/the-world-factbook/countries/sri-lanka/\">Sri Lanka</a></td><td>76.8</td><td>2024 est.</td></tr><tr class=\"content-row\"><td>101</td><td><a class=\"text-button\" href=\"/the-world-factbook/countries/poland/\">Poland</a></td><td>76.7</td><td>2024 est.</td></tr><tr class=\"content-row\"><td>102</td><td><a class=\"text-button\" href=\"/the-world-factbook/countries/armenia/\">Armenia</a></td><td>76.7</td><td>2024 est.</td></tr><tr class=\"content-row\"><td>103</td><td><a class=\"text-button\" href=\"/the-world-factbook/countries/turkey-turkiye/\">Turkey (Turkiye)</a></td><td>76.7</td><td>2024 est.</td></tr><tr class=\"content-row\"><td>104</td><td><a class=\"text-button\" href=\"/the-world-factbook/countries/bahamas-the/\">Bahamas, The</a></td><td>76.7</td><td>2024 est.</td></tr><tr class=\"content-row\"><td>105</td><td><a class=\"text-button\" href=\"/the-world-factbook/countries/seychelles/\">Seychelles</a></td><td>76.6</td><td>2024 est.</td></tr><tr class=\"content-row\"><td>106</td><td><a class=\"text-button\" href=\"/the-world-factbook/countries/malaysia/\">Malaysia</a></td><td>76.6</td><td>2024 est.</td></tr><tr class=\"content-row\"><td>107</td><td><a class=\"text-button\" href=\"/the-world-factbook/countries/trinidad-and-tobago/\">Trinidad and Tobago</a></td><td>76.5</td><td>2024 est.</td></tr><tr class=\"content-row\"><td>108</td><td><a class=\"text-button\" href=\"/the-world-factbook/countries/west-bank/\">West Bank</a></td><td>76.5</td><td>2024 est.</td></tr><tr class=\"content-row\"><td>109</td><td><a class=\"text-button\" href=\"/the-world-factbook/countries/jordan/\">Jordan</a></td><td>76.5</td><td>2024 est.</td></tr><tr class=\"content-row\"><td>110</td><td><a class=\"text-button\" href=\"/the-world-factbook/countries/latvia/\">Latvia</a></td><td>76.4</td><td>2024 est.</td></tr><tr class=\"content-row\"><td>111</td><td><a class=\"text-button\" href=\"/the-world-factbook/countries/jamaica/\">Jamaica</a></td><td>76.3</td><td>2024 est.</td></tr><tr class=\"content-row\"><td>112</td><td><a class=\"text-button\" href=\"/the-world-factbook/countries/grenada/\">Grenada</a></td><td>76.3</td><td>2024 est.</td></tr><tr class=\"content-row\"><td>113</td><td><a class=\"text-button\" href=\"/the-world-factbook/countries/brazil/\">Brazil</a></td><td>76.3</td><td>2024 est.</td></tr><tr class=\"content-row\"><td>114</td><td><a class=\"text-button\" href=\"/the-world-factbook/countries/uzbekistan/\">Uzbekistan</a></td><td>76.2</td><td>2024 est.</td></tr><tr class=\"content-row\"><td>115</td><td><a class=\"text-button\" href=\"/the-world-factbook/countries/vietnam/\">Vietnam</a></td><td>76.1</td><td>2024 est.</td></tr><tr class=\"content-row\"><td>116</td><td><a class=\"text-button\" href=\"/the-world-factbook/countries/montserrat/\">Montserrat</a></td><td>76.1</td><td>2024 est.</td></tr><tr class=\"content-row\"><td>117</td><td><a class=\"text-button\" href=\"/the-world-factbook/countries/lithuania/\">Lithuania</a></td><td>76.1</td><td>2024 est.</td></tr><tr class=\"content-row\"><td>118</td><td><a class=\"text-button\" href=\"/the-world-factbook/countries/bulgaria/\">Bulgaria</a></td><td>76.1</td><td>2024 est.</td></tr><tr class=\"content-row\"><td>119</td><td><a class=\"text-button\" href=\"/the-world-factbook/countries/hungary/\">Hungary</a></td><td>76</td><td>2024 est.</td></tr><tr class=\"content-row\"><td>120</td><td><a class=\"text-button\" href=\"/the-world-factbook/countries/azerbaijan/\">Azerbaijan</a></td><td>75.9</td><td>2024 est.</td></tr><tr class=\"content-row\"><td>121</td><td><a class=\"text-button\" href=\"/the-world-factbook/countries/el-salvador/\">El Salvador</a></td><td>75.9</td><td>2024 est.</td></tr><tr class=\"content-row\"><td>122</td><td><a class=\"text-button\" href=\"/the-world-factbook/countries/american-samoa/\">American Samoa</a></td><td>75.8</td><td>2024 est.</td></tr><tr class=\"content-row\"><td>123</td><td><a class=\"text-button\" href=\"/the-world-factbook/countries/vanuatu/\">Vanuatu</a></td><td>75.7</td><td>2024 est.</td></tr><tr class=\"content-row\"><td>124</td><td><a class=\"text-button\" href=\"/the-world-factbook/countries/samoa/\">Samoa</a></td><td>75.7</td><td>2024 est.</td></tr><tr class=\"content-row\"><td>125</td><td><a class=\"text-button\" href=\"/the-world-factbook/countries/iran/\">Iran</a></td><td>75.6</td><td>2024 est.</td></tr><tr class=\"content-row\"><td>126</td><td><a class=\"text-button\" href=\"/the-world-factbook/countries/gaza-strip/\">Gaza Strip</a></td><td>75.5</td><td>2024 est.</td></tr><tr class=\"content-row\"><td>127</td><td><a class=\"text-button\" href=\"/the-world-factbook/countries/mauritius/\">Mauritius</a></td><td>75.4</td><td>2024 est.</td></tr><tr class=\"content-row\"><td>128</td><td><a class=\"text-button\" href=\"/the-world-factbook/countries/serbia/\">Serbia</a></td><td>75.3</td><td>2024 est.</td></tr><tr class=\"content-row\"><td>129</td><td><a class=\"text-button\" href=\"/the-world-factbook/countries/bangladesh/\">Bangladesh</a></td><td>75.2</td><td>2024 est.</td></tr><tr class=\"content-row\"><td>130</td><td><a class=\"text-button\" href=\"/the-world-factbook/countries/marshall-islands/\">Marshall Islands</a></td><td>75.2</td><td>2024 est.</td></tr><tr class=\"content-row\"><td>131</td><td><a class=\"text-button\" href=\"/the-world-factbook/countries/palau/\">Palau</a></td><td>75.2</td><td>2024 est.</td></tr><tr class=\"content-row\"><td>132</td><td><a class=\"text-button\" href=\"/the-world-factbook/countries/egypt/\">Egypt</a></td><td>75</td><td>2024 est.</td></tr><tr class=\"content-row\"><td>133</td><td><a class=\"text-button\" href=\"/the-world-factbook/countries/micronesia-federated-states-of/\">Micronesia, Federated States of</a></td><td>75</td><td>2024 est.</td></tr><tr class=\"content-row\"><td>134</td><td><a class=\"text-button\" href=\"/the-world-factbook/countries/colombia/\">Colombia</a></td><td>74.9</td><td>2024 est.</td></tr><tr class=\"content-row\"><td>135</td><td><a class=\"text-button\" href=\"/the-world-factbook/countries/ecuador/\">Ecuador</a></td><td>74.9</td><td>2024 est.</td></tr><tr class=\"content-row\"><td>136</td><td><a class=\"text-button\" href=\"/the-world-factbook/countries/fiji/\">Fiji</a></td><td>74.8</td><td>2024 est.</td></tr><tr class=\"content-row\"><td>137</td><td><a class=\"text-button\" href=\"/the-world-factbook/countries/syria/\">Syria</a></td><td>74.8</td><td>2024 est.</td></tr><tr class=\"content-row\"><td>138</td><td><a class=\"text-button\" href=\"/the-world-factbook/countries/belarus/\">Belarus</a></td><td>74.7</td><td>2024 est.</td></tr><tr class=\"content-row\"><td>139</td><td><a class=\"text-button\" href=\"/the-world-factbook/countries/nicaragua/\">Nicaragua</a></td><td>74.7</td><td>2024 est.</td></tr><tr class=\"content-row\"><td>140</td><td><a class=\"text-button\" href=\"/the-world-factbook/countries/mexico/\">Mexico</a></td><td>74.6</td><td>2024 est.</td></tr><tr class=\"content-row\"><td>141</td><td><a class=\"text-button\" href=\"/the-world-factbook/countries/greenland/\">Greenland</a></td><td>74.5</td><td>2024 est.</td></tr><tr class=\"content-row\"><td>142</td><td><a class=\"text-button\" href=\"/the-world-factbook/countries/venezuela/\">Venezuela</a></td><td>74.5</td><td>2024 est.</td></tr><tr class=\"content-row\"><td>143</td><td><a class=\"text-button\" href=\"/the-world-factbook/countries/belize/\">Belize</a></td><td>74.3</td><td>2024 est.</td></tr><tr class=\"content-row\"><td>144</td><td><a class=\"text-button\" href=\"/the-world-factbook/countries/cabo-verde/\">Cabo Verde</a></td><td>74.3</td><td>2024 est.</td></tr><tr class=\"content-row\"><td>145</td><td><a class=\"text-button\" href=\"/the-world-factbook/countries/morocco/\">Morocco</a></td><td>74.2</td><td>2024 est.</td></tr><tr class=\"content-row\"><td>146</td><td><a class=\"text-button\" href=\"/the-world-factbook/countries/iraq/\">Iraq</a></td><td>73.7</td><td>2024 est.</td></tr><tr class=\"content-row\"><td>147</td><td><a class=\"text-button\" href=\"/the-world-factbook/countries/bhutan/\">Bhutan</a></td><td>73.7</td><td>2024 est.</td></tr><tr class=\"content-row\"><td>148</td><td><a class=\"text-button\" href=\"/the-world-factbook/countries/indonesia/\">Indonesia</a></td><td>73.6</td><td>2024 est.</td></tr><tr class=\"content-row\"><td>149</td><td><a class=\"text-button\" href=\"/the-world-factbook/countries/guatemala/\">Guatemala</a></td><td>73.5</td><td>2024 est.</td></tr><tr class=\"content-row\"><td>150</td><td><a class=\"text-button\" href=\"/the-world-factbook/countries/korea-north/\">Korea, North</a></td><td>73.5</td><td>2024 est.</td></tr><tr class=\"content-row\"><td>151</td><td><a class=\"text-button\" href=\"/the-world-factbook/countries/kazakhstan/\">Kazakhstan</a></td><td>73.3</td><td>2024 est.</td></tr><tr class=\"content-row\"><td>152</td><td><a class=\"text-button\" href=\"/the-world-factbook/countries/honduras/\">Honduras</a></td><td>73.1</td><td>2024 est.</td></tr><tr class=\"content-row\"><td>153</td><td><a class=\"text-button\" href=\"/the-world-factbook/countries/kosovo/\">Kosovo</a></td><td>73.1</td><td>2024 est.</td></tr><tr class=\"content-row\"><td>154</td><td><a class=\"text-button\" href=\"/the-world-factbook/countries/nepal/\">Nepal</a></td><td>73</td><td>2024 est.</td></tr><tr class=\"content-row\"><td>155</td><td><a class=\"text-button\" href=\"/the-world-factbook/countries/malawi/\">Malawi</a></td><td>73</td><td>2024 est.</td></tr><tr class=\"content-row\"><td>156</td><td><a class=\"text-button\" href=\"/the-world-factbook/countries/congo-republic-of-the/\">Congo, Republic of the</a></td><td>72.9</td><td>2024 est.</td></tr><tr class=\"content-row\"><td>157</td><td><a class=\"text-button\" href=\"/the-world-factbook/countries/kyrgyzstan/\">Kyrgyzstan</a></td><td>72.9</td><td>2024 est.</td></tr><tr class=\"content-row\"><td>158</td><td><a class=\"text-button\" href=\"/the-world-factbook/countries/georgia/\">Georgia</a></td><td>72.8</td><td>2024 est.</td></tr><tr class=\"content-row\"><td>159</td><td><a class=\"text-button\" href=\"/the-world-factbook/countries/suriname/\">Suriname</a></td><td>72.7</td><td>2024 est.</td></tr><tr class=\"content-row\"><td>160</td><td><a class=\"text-button\" href=\"/the-world-factbook/countries/dominican-republic/\">Dominican Republic</a></td><td>72.6</td><td>2024 est.</td></tr><tr class=\"content-row\"><td>161</td><td><a class=\"text-button\" href=\"/the-world-factbook/countries/bolivia/\">Bolivia</a></td><td>72.5</td><td>2024 est.</td></tr><tr class=\"content-row\"><td>162</td><td><a class=\"text-button\" href=\"/the-world-factbook/countries/turkmenistan/\">Turkmenistan</a></td><td>72.4</td><td>2024 est.</td></tr><tr class=\"content-row\"><td>163</td><td><a class=\"text-button\" href=\"/the-world-factbook/countries/guyana/\">Guyana</a></td><td>72.4</td><td>2024 est.</td></tr><tr class=\"content-row\"><td>164</td><td><a class=\"text-button\" href=\"/the-world-factbook/countries/russia/\">Russia</a></td><td>72.3</td><td>2024 est.</td></tr><tr class=\"content-row\"><td>165</td><td><a class=\"text-button\" href=\"/the-world-factbook/countries/togo/\">Togo</a></td><td>72.1</td><td>2024 est.</td></tr><tr class=\"content-row\"><td>166</td><td><a class=\"text-button\" href=\"/the-world-factbook/countries/south-africa/\">South Africa</a></td><td>71.9</td><td>2024 est.</td></tr><tr class=\"content-row\"><td>167</td><td><a class=\"text-button\" href=\"/the-world-factbook/countries/tajikistan/\">Tajikistan</a></td><td>71.9</td><td>2024 est.</td></tr><tr class=\"content-row\"><td>168</td><td><a class=\"text-button\" href=\"/the-world-factbook/countries/mongolia/\">Mongolia</a></td><td>71.9</td><td>2024 est.</td></tr><tr class=\"content-row\"><td>169</td><td><a class=\"text-button\" href=\"/the-world-factbook/countries/cambodia/\">Cambodia</a></td><td>71.4</td><td>2024 est.</td></tr><tr class=\"content-row\"><td>170</td><td><a class=\"text-button\" href=\"/the-world-factbook/countries/philippines/\">Philippines</a></td><td>70.8</td><td>2024 est.</td></tr><tr class=\"content-row\"><td>171</td><td><a class=\"text-button\" href=\"/the-world-factbook/countries/tanzania/\">Tanzania</a></td><td>70.8</td><td>2024 est.</td></tr><tr class=\"content-row\"><td>172</td><td><a class=\"text-button\" href=\"/the-world-factbook/countries/senegal/\">Senegal</a></td><td>70.6</td><td>2024 est.</td></tr><tr class=\"content-row\"><td>173</td><td><a class=\"text-button\" href=\"/the-world-factbook/countries/ukraine/\">Ukraine</a></td><td>70.5</td><td>2024 est.</td></tr><tr class=\"content-row\"><td>174</td><td><a class=\"text-button\" href=\"/the-world-factbook/countries/timor-leste/\">Timor-Leste</a></td><td>70.5</td><td>2024 est.</td></tr><tr class=\"content-row\"><td>175</td><td><a class=\"text-button\" href=\"/the-world-factbook/countries/gabon/\">Gabon</a></td><td>70.4</td><td>2024 est.</td></tr><tr class=\"content-row\"><td>176</td><td><a class=\"text-button\" href=\"/the-world-factbook/countries/kenya/\">Kenya</a></td><td>70.4</td><td>2024 est.</td></tr><tr class=\"content-row\"><td>177</td><td><a class=\"text-button\" href=\"/the-world-factbook/countries/burma/\">Burma</a></td><td>70.3</td><td>2024 est.</td></tr><tr class=\"content-row\"><td>178</td><td><a class=\"text-button\" href=\"/the-world-factbook/countries/pakistan/\">Pakistan</a></td><td>70.3</td><td>2024 est.</td></tr><tr class=\"content-row\"><td>179</td><td><a class=\"text-button\" href=\"/the-world-factbook/countries/moldova/\">Moldova</a></td><td>70.1</td><td>2024 est.</td></tr><tr class=\"content-row\"><td>180</td><td><a class=\"text-button\" href=\"/the-world-factbook/countries/ghana/\">Ghana</a></td><td>70.1</td><td>2024 est.</td></tr><tr class=\"content-row\"><td>181</td><td><a class=\"text-button\" href=\"/the-world-factbook/countries/papua-new-guinea/\">Papua New Guinea</a></td><td>70.1</td><td>2024 est.</td></tr><tr class=\"content-row\"><td>182</td><td><a class=\"text-button\" href=\"/the-world-factbook/countries/uganda/\">Uganda</a></td><td>69.7</td><td>2024 est.</td></tr><tr class=\"content-row\"><td>183</td><td><a class=\"text-button\" href=\"/the-world-factbook/countries/laos/\">Laos</a></td><td>69</td><td>2024 est.</td></tr><tr class=\"content-row\"><td>184</td><td><a class=\"text-button\" href=\"/the-world-factbook/countries/tuvalu/\">Tuvalu</a></td><td>69</td><td>2024 est.</td></tr><tr class=\"content-row\"><td>185</td><td><a class=\"text-button\" href=\"/the-world-factbook/countries/peru/\">Peru</a></td><td>68.9</td><td>2024 est.</td></tr><tr class=\"content-row\"><td>186</td><td><a class=\"text-button\" href=\"/the-world-factbook/countries/madagascar/\">Madagascar</a></td><td>68.8</td><td>2024 est.</td></tr><tr class=\"content-row\"><td>187</td><td><a class=\"text-button\" href=\"/the-world-factbook/countries/nauru/\">Nauru</a></td><td>68.6</td><td>2024 est.</td></tr><tr class=\"content-row\"><td>188</td><td><a class=\"text-button\" href=\"/the-world-factbook/countries/kiribati/\">Kiribati</a></td><td>68.5</td><td>2024 est.</td></tr><tr class=\"content-row\"><td>189</td><td><a class=\"text-button\" href=\"/the-world-factbook/countries/gambia-the/\">Gambia, The</a></td><td>68.4</td><td>2024 est.</td></tr><tr class=\"content-row\"><td>190</td><td><a class=\"text-button\" href=\"/the-world-factbook/countries/india/\">India</a></td><td>68.2</td><td>2024 est.</td></tr><tr class=\"content-row\"><td>191</td><td><a class=\"text-button\" href=\"/the-world-factbook/countries/yemen/\">Yemen</a></td><td>68.2</td><td>2024 est.</td></tr><tr class=\"content-row\"><td>192</td><td><a class=\"text-button\" href=\"/the-world-factbook/countries/burundi/\">Burundi</a></td><td>68.1</td><td>2024 est.</td></tr><tr class=\"content-row\"><td>193</td><td><a class=\"text-button\" href=\"/the-world-factbook/countries/comoros/\">Comoros</a></td><td>67.8</td><td>2024 est.</td></tr><tr class=\"content-row\"><td>194</td><td><a class=\"text-button\" href=\"/the-world-factbook/countries/sudan/\">Sudan</a></td><td>67.8</td><td>2024 est.</td></tr><tr class=\"content-row\"><td>195</td><td><a class=\"text-button\" href=\"/the-world-factbook/countries/sao-tome-and-principe/\">Sao Tome and Principe</a></td><td>67.7</td><td>2024 est.</td></tr><tr class=\"content-row\"><td>196</td><td><a class=\"text-button\" href=\"/the-world-factbook/countries/ethiopia/\">Ethiopia</a></td><td>67.7</td><td>2024 est.</td></tr><tr class=\"content-row\"><td>197</td><td><a class=\"text-button\" href=\"/the-world-factbook/countries/eritrea/\">Eritrea</a></td><td>67.5</td><td>2024 est.</td></tr><tr class=\"content-row\"><td>198</td><td><a class=\"text-button\" href=\"/the-world-factbook/countries/zimbabwe/\">Zimbabwe</a></td><td>67.2</td><td>2024 est.</td></tr><tr class=\"content-row\"><td>199</td><td><a class=\"text-button\" href=\"/the-world-factbook/countries/zambia/\">Zambia</a></td><td>66.9</td><td>2024 est.</td></tr><tr class=\"content-row\"><td>200</td><td><a class=\"text-button\" href=\"/the-world-factbook/countries/rwanda/\">Rwanda</a></td><td>66.6</td><td>2024 est.</td></tr><tr class=\"content-row\"><td>201</td><td><a class=\"text-button\" href=\"/the-world-factbook/countries/botswana/\">Botswana</a></td><td>66.4</td><td>2024 est.</td></tr><tr class=\"content-row\"><td>202</td><td><a class=\"text-button\" href=\"/the-world-factbook/countries/djibouti/\">Djibouti</a></td><td>65.9</td><td>2024 est.</td></tr><tr class=\"content-row\"><td>203</td><td><a class=\"text-button\" href=\"/the-world-factbook/countries/namibia/\">Namibia</a></td><td>65.9</td><td>2024 est.</td></tr><tr class=\"content-row\"><td>204</td><td><a class=\"text-button\" href=\"/the-world-factbook/countries/mauritania/\">Mauritania</a></td><td>65.9</td><td>2024 est.</td></tr><tr class=\"content-row\"><td>205</td><td><a class=\"text-button\" href=\"/the-world-factbook/countries/haiti/\">Haiti</a></td><td>65.6</td><td>2024 est.</td></tr><tr class=\"content-row\"><td>206</td><td><a class=\"text-button\" href=\"/the-world-factbook/countries/guinea/\">Guinea</a></td><td>64.6</td><td>2024 est.</td></tr><tr class=\"content-row\"><td>207</td><td><a class=\"text-button\" href=\"/the-world-factbook/countries/guinea-bissau/\">Guinea-Bissau</a></td><td>64.5</td><td>2024 est.</td></tr><tr class=\"content-row\"><td>208</td><td><a class=\"text-button\" href=\"/the-world-factbook/countries/burkina-faso/\">Burkina Faso</a></td><td>64.2</td><td>2024 est.</td></tr><tr class=\"content-row\"><td>209</td><td><a class=\"text-button\" href=\"/the-world-factbook/countries/cameroon/\">Cameroon</a></td><td>64.2</td><td>2024 est.</td></tr><tr class=\"content-row\"><td>210</td><td><a class=\"text-button\" href=\"/the-world-factbook/countries/equatorial-guinea/\">Equatorial Guinea</a></td><td>63.9</td><td>2024 est.</td></tr><tr class=\"content-row\"><td>211</td><td><a class=\"text-button\" href=\"/the-world-factbook/countries/mali/\">Mali</a></td><td>63.2</td><td>2024 est.</td></tr><tr class=\"content-row\"><td>212</td><td><a class=\"text-button\" href=\"/the-world-factbook/countries/cote-divoire/\">Cote d'Ivoire</a></td><td>63.2</td><td>2024 est.</td></tr><tr class=\"content-row\"><td>213</td><td><a class=\"text-button\" href=\"/the-world-factbook/countries/benin/\">Benin</a></td><td>63</td><td>2024 est.</td></tr><tr class=\"content-row\"><td>214</td><td><a class=\"text-button\" href=\"/the-world-factbook/countries/angola/\">Angola</a></td><td>62.9</td><td>2024 est.</td></tr><tr class=\"content-row\"><td>215</td><td><a class=\"text-button\" href=\"/the-world-factbook/countries/congo-democratic-republic-of-the/\">Congo, Democratic Republic of the</a></td><td>62.6</td><td>2024 est.</td></tr><tr class=\"content-row\"><td>216</td><td><a class=\"text-button\" href=\"/the-world-factbook/countries/nigeria/\">Nigeria</a></td><td>62.2</td><td>2024 est.</td></tr><tr class=\"content-row\"><td>217</td><td><a class=\"text-button\" href=\"/the-world-factbook/countries/liberia/\">Liberia</a></td><td>61.6</td><td>2024 est.</td></tr><tr class=\"content-row\"><td>218</td><td><a class=\"text-button\" href=\"/the-world-factbook/countries/niger/\">Niger</a></td><td>60.9</td><td>2024 est.</td></tr><tr class=\"content-row\"><td>219</td><td><a class=\"text-button\" href=\"/the-world-factbook/countries/eswatini/\">Eswatini</a></td><td>60.7</td><td>2024 est.</td></tr><tr class=\"content-row\"><td>220</td><td><a class=\"text-button\" href=\"/the-world-factbook/countries/south-sudan/\">South Sudan</a></td><td>60.3</td><td>2024 est.</td></tr><tr class=\"content-row\"><td>221</td><td><a class=\"text-button\" href=\"/the-world-factbook/countries/lesotho/\">Lesotho</a></td><td>60.2</td><td>2024 est.</td></tr><tr class=\"content-row\"><td>222</td><td><a class=\"text-button\" href=\"/the-world-factbook/countries/chad/\">Chad</a></td><td>60</td><td>2024 est.</td></tr><tr class=\"content-row\"><td>223</td><td><a class=\"text-button\" href=\"/the-world-factbook/countries/sierra-leone/\">Sierra Leone</a></td><td>59.4</td><td>2024 est.</td></tr><tr class=\"content-row\"><td>224</td><td><a class=\"text-button\" href=\"/the-world-factbook/countries/mozambique/\">Mozambique</a></td><td>58.3</td><td>2024 est.</td></tr><tr class=\"content-row\"><td>225</td><td><a class=\"text-button\" href=\"/the-world-factbook/countries/somalia/\">Somalia</a></td><td>56.5</td><td>2024 est.</td></tr><tr class=\"content-row\"><td>226</td><td><a class=\"text-button\" href=\"/the-world-factbook/countries/central-african-republic/\">Central African Republic</a></td><td>56.4</td><td>2024 est.</td></tr><tr class=\"content-row\"><td>227</td><td><a class=\"text-button\" href=\"/the-world-factbook/countries/afghanistan/\">Afghanistan</a></td><td>54.4</td><td>2024 est.</td></tr></tbody></table>"
      ]
     },
     "execution_count": 13,
     "metadata": {},
     "output_type": "execute_result"
    }
   ],
   "source": [
    "info.find_all('table')[0]"
   ]
  },
  {
   "cell_type": "code",
   "execution_count": 15,
   "id": "3ae1574d-8be5-4d01-a184-0e0323e9d416",
   "metadata": {},
   "outputs": [],
   "source": [
    "table = info.find_all('table')[0]"
   ]
  },
  {
   "cell_type": "code",
   "execution_count": 17,
   "id": "3019f862-704b-4ca1-b2cd-7fe77f31d397",
   "metadata": {},
   "outputs": [
    {
     "data": {
      "text/plain": [
       "[<th>Rank</th>,\n",
       " <th>Country</th>,\n",
       " <th> years</th>,\n",
       " <th>Date of Information</th>]"
      ]
     },
     "execution_count": 17,
     "metadata": {},
     "output_type": "execute_result"
    }
   ],
   "source": [
    "table.find_all('th')"
   ]
  },
  {
   "cell_type": "code",
   "execution_count": 19,
   "id": "20bf547f-e89d-4a25-b4cb-5b76efbfdc15",
   "metadata": {},
   "outputs": [],
   "source": [
    "titles = table.find_all('th')"
   ]
  },
  {
   "cell_type": "code",
   "execution_count": 21,
   "id": "7c14c0e3-9944-4928-8c5e-3b0393483e92",
   "metadata": {},
   "outputs": [
    {
     "name": "stdout",
     "output_type": "stream",
     "text": [
      "['Rank', 'Country', 'years', 'Date of Information']\n"
     ]
    }
   ],
   "source": [
    "titles_table = [title.text.strip() for title in titles]\n",
    "print(titles_table)"
   ]
  },
  {
   "cell_type": "code",
   "execution_count": 23,
   "id": "228db411-f128-4437-ae23-ed61fbfb507b",
   "metadata": {},
   "outputs": [
    {
     "data": {
      "text/plain": [
       "[<tr class=\"header-row\"><th>Rank</th><th>Country</th><th> years</th><th>Date of Information</th></tr>,\n",
       " <tr class=\"content-row\"><td>1</td><td><a class=\"text-button\" href=\"/the-world-factbook/countries/monaco/\">Monaco</a></td><td>89.8</td><td>2024 est.</td></tr>,\n",
       " <tr class=\"content-row\"><td>2</td><td><a class=\"text-button\" href=\"/the-world-factbook/countries/singapore/\">Singapore</a></td><td>86.7</td><td>2024 est.</td></tr>,\n",
       " <tr class=\"content-row\"><td>3</td><td><a class=\"text-button\" href=\"/the-world-factbook/countries/macau/\">Macau</a></td><td>85.3</td><td>2024 est.</td></tr>,\n",
       " <tr class=\"content-row\"><td>4</td><td><a class=\"text-button\" href=\"/the-world-factbook/countries/japan/\">Japan</a></td><td>85.2</td><td>2024 est.</td></tr>,\n",
       " <tr class=\"content-row\"><td>5</td><td><a class=\"text-button\" href=\"/the-world-factbook/countries/canada/\">Canada</a></td><td>84.2</td><td>2024 est.</td></tr>,\n",
       " <tr class=\"content-row\"><td>6</td><td><a class=\"text-button\" href=\"/the-world-factbook/countries/san-marino/\">San Marino</a></td><td>84.2</td><td>2024 est.</td></tr>,\n",
       " <tr class=\"content-row\"><td>7</td><td><a class=\"text-button\" href=\"/the-world-factbook/countries/hong-kong/\">Hong Kong</a></td><td>84</td><td>2024 est.</td></tr>,\n",
       " <tr class=\"content-row\"><td>8</td><td><a class=\"text-button\" href=\"/the-world-factbook/countries/iceland/\">Iceland</a></td><td>84</td><td>2024 est.</td></tr>,\n",
       " <tr class=\"content-row\"><td>9</td><td><a class=\"text-button\" href=\"/the-world-factbook/countries/switzerland/\">Switzerland</a></td><td>83.9</td><td>2024 est.</td></tr>,\n",
       " <tr class=\"content-row\"><td>10</td><td><a class=\"text-button\" href=\"/the-world-factbook/countries/andorra/\">Andorra</a></td><td>83.8</td><td>2024 est.</td></tr>,\n",
       " <tr class=\"content-row\"><td>11</td><td><a class=\"text-button\" href=\"/the-world-factbook/countries/guernsey/\">Guernsey</a></td><td>83.6</td><td>2024 est.</td></tr>,\n",
       " <tr class=\"content-row\"><td>12</td><td><a class=\"text-button\" href=\"/the-world-factbook/countries/malta/\">Malta</a></td><td>83.6</td><td>2024 est.</td></tr>,\n",
       " <tr class=\"content-row\"><td>13</td><td><a class=\"text-button\" href=\"/the-world-factbook/countries/australia/\">Australia</a></td><td>83.5</td><td>2024 est.</td></tr>,\n",
       " <tr class=\"content-row\"><td>14</td><td><a class=\"text-button\" href=\"/the-world-factbook/countries/luxembourg/\">Luxembourg</a></td><td>83.4</td><td>2024 est.</td></tr>,\n",
       " <tr class=\"content-row\"><td>15</td><td><a class=\"text-button\" href=\"/the-world-factbook/countries/korea-south/\">Korea, South</a></td><td>83.4</td><td>2024 est.</td></tr>,\n",
       " <tr class=\"content-row\"><td>16</td><td><a class=\"text-button\" href=\"/the-world-factbook/countries/israel/\">Israel</a></td><td>83.1</td><td>2024 est.</td></tr>,\n",
       " <tr class=\"content-row\"><td>17</td><td><a class=\"text-button\" href=\"/the-world-factbook/countries/jersey/\">Jersey</a></td><td>83</td><td>2024 est.</td></tr>,\n",
       " <tr class=\"content-row\"><td>18</td><td><a class=\"text-button\" href=\"/the-world-factbook/countries/spain/\">Spain</a></td><td>83</td><td>2024 est.</td></tr>,\n",
       " <tr class=\"content-row\"><td>19</td><td><a class=\"text-button\" href=\"/the-world-factbook/countries/italy/\">Italy</a></td><td>83</td><td>2024 est.</td></tr>,\n",
       " <tr class=\"content-row\"><td>20</td><td><a class=\"text-button\" href=\"/the-world-factbook/countries/liechtenstein/\">Liechtenstein</a></td><td>83</td><td>2024 est.</td></tr>,\n",
       " <tr class=\"content-row\"><td>21</td><td><a class=\"text-button\" href=\"/the-world-factbook/countries/sweden/\">Sweden</a></td><td>82.9</td><td>2024 est.</td></tr>,\n",
       " <tr class=\"content-row\"><td>22</td><td><a class=\"text-button\" href=\"/the-world-factbook/countries/norway/\">Norway</a></td><td>82.9</td><td>2024 est.</td></tr>,\n",
       " <tr class=\"content-row\"><td>23</td><td><a class=\"text-button\" href=\"/the-world-factbook/countries/new-zealand/\">New Zealand</a></td><td>82.9</td><td>2024 est.</td></tr>,\n",
       " <tr class=\"content-row\"><td>24</td><td><a class=\"text-button\" href=\"/the-world-factbook/countries/austria/\">Austria</a></td><td>82.7</td><td>2024 est.</td></tr>,\n",
       " <tr class=\"content-row\"><td>25</td><td><a class=\"text-button\" href=\"/the-world-factbook/countries/france/\">France</a></td><td>82.6</td><td>2024 est.</td></tr>,\n",
       " <tr class=\"content-row\"><td>26</td><td><a class=\"text-button\" href=\"/the-world-factbook/countries/anguilla/\">Anguilla</a></td><td>82.6</td><td>2024 est.</td></tr>,\n",
       " <tr class=\"content-row\"><td>27</td><td><a class=\"text-button\" href=\"/the-world-factbook/countries/cayman-islands/\">Cayman Islands</a></td><td>82.5</td><td>2024 est.</td></tr>,\n",
       " <tr class=\"content-row\"><td>28</td><td><a class=\"text-button\" href=\"/the-world-factbook/countries/isle-of-man/\">Isle of Man</a></td><td>82.5</td><td>2024 est.</td></tr>,\n",
       " <tr class=\"content-row\"><td>29</td><td><a class=\"text-button\" href=\"/the-world-factbook/countries/bermuda/\">Bermuda</a></td><td>82.5</td><td>2024 est.</td></tr>,\n",
       " <tr class=\"content-row\"><td>30</td><td><a class=\"text-button\" href=\"/the-world-factbook/countries/belgium/\">Belgium</a></td><td>82.3</td><td>2024 est.</td></tr>,\n",
       " <tr class=\"content-row\"><td>31</td><td><a class=\"text-button\" href=\"/the-world-factbook/countries/finland/\">Finland</a></td><td>82.2</td><td>2024 est.</td></tr>,\n",
       " <tr class=\"content-row\"><td>32</td><td><a class=\"text-button\" href=\"/the-world-factbook/countries/slovenia/\">Slovenia</a></td><td>82.2</td><td>2024 est.</td></tr>,\n",
       " <tr class=\"content-row\"><td>33</td><td><a class=\"text-button\" href=\"/the-world-factbook/countries/united-kingdom/\">United Kingdom</a></td><td>82.2</td><td>2024 est.</td></tr>,\n",
       " <tr class=\"content-row\"><td>34</td><td><a class=\"text-button\" href=\"/the-world-factbook/countries/puerto-rico/\">Puerto Rico</a></td><td>82.1</td><td>2024 est.</td></tr>,\n",
       " <tr class=\"content-row\"><td>35</td><td><a class=\"text-button\" href=\"/the-world-factbook/countries/denmark/\">Denmark</a></td><td>82.1</td><td>2024 est.</td></tr>,\n",
       " <tr class=\"content-row\"><td>36</td><td><a class=\"text-button\" href=\"/the-world-factbook/countries/ireland/\">Ireland</a></td><td>82</td><td>2024 est.</td></tr>,\n",
       " <tr class=\"content-row\"><td>37</td><td><a class=\"text-button\" href=\"/the-world-factbook/countries/portugal/\">Portugal</a></td><td>81.9</td><td>2024 est.</td></tr>,\n",
       " <tr class=\"content-row\"><td>38</td><td><a class=\"text-button\" href=\"/the-world-factbook/countries/germany/\">Germany</a></td><td>81.9</td><td>2024 est.</td></tr>,\n",
       " <tr class=\"content-row\"><td>39</td><td><a class=\"text-button\" href=\"/the-world-factbook/countries/netherlands/\">Netherlands</a></td><td>81.9</td><td>2024 est.</td></tr>,\n",
       " <tr class=\"content-row\"><td>40</td><td><a class=\"text-button\" href=\"/the-world-factbook/countries/greece/\">Greece</a></td><td>81.9</td><td>2024 est.</td></tr>,\n",
       " <tr class=\"content-row\"><td>41</td><td><a class=\"text-button\" href=\"/the-world-factbook/countries/saint-pierre-and-miquelon/\">Saint Pierre and Miquelon</a></td><td>81.8</td><td>2024 est.</td></tr>,\n",
       " <tr class=\"content-row\"><td>42</td><td><a class=\"text-button\" href=\"/the-world-factbook/countries/faroe-islands/\">Faroe Islands</a></td><td>81.7</td><td>2024 est.</td></tr>,\n",
       " <tr class=\"content-row\"><td>43</td><td><a class=\"text-button\" href=\"/the-world-factbook/countries/taiwan/\">Taiwan</a></td><td>81.6</td><td>2024 est.</td></tr>,\n",
       " <tr class=\"content-row\"><td>44</td><td><a class=\"text-button\" href=\"/the-world-factbook/countries/turks-and-caicos-islands/\">Turks and Caicos Islands</a></td><td>81.3</td><td>2024 est.</td></tr>,\n",
       " <tr class=\"content-row\"><td>45</td><td><a class=\"text-button\" href=\"/the-world-factbook/countries/wallis-and-futuna/\">Wallis and Futuna</a></td><td>81.1</td><td>2024 est.</td></tr>,\n",
       " <tr class=\"content-row\"><td>46</td><td><a class=\"text-button\" href=\"/the-world-factbook/countries/saint-martin/\">Saint Martin</a></td><td>81</td><td>2024 est.</td></tr>,\n",
       " <tr class=\"content-row\"><td>47</td><td><a class=\"text-button\" href=\"/the-world-factbook/countries/saint-barthelemy/\">Saint Barthelemy</a></td><td>81</td><td>2024 est.</td></tr>,\n",
       " <tr class=\"content-row\"><td>48</td><td><a class=\"text-button\" href=\"/the-world-factbook/countries/gibraltar/\">Gibraltar</a></td><td>80.9</td><td>2024 est.</td></tr>,\n",
       " <tr class=\"content-row\"><td>49</td><td><a class=\"text-button\" href=\"/the-world-factbook/countries/united-states/\">United States</a></td><td>80.9</td><td>2024 est.</td></tr>,\n",
       " <tr class=\"content-row\"><td>50</td><td><a class=\"text-button\" href=\"/the-world-factbook/countries/saint-helena-ascension-and-tristan-da-cunha/\">Saint Helena, Ascension, and Tristan da Cunha</a></td><td>80.9</td><td>2024 est.</td></tr>,\n",
       " <tr class=\"content-row\"><td>51</td><td><a class=\"text-button\" href=\"/the-world-factbook/countries/virgin-islands/\">Virgin Islands</a></td><td>80.7</td><td>2024 est.</td></tr>,\n",
       " <tr class=\"content-row\"><td>52</td><td><a class=\"text-button\" href=\"/the-world-factbook/countries/bahrain/\">Bahrain</a></td><td>80.4</td><td>2024 est.</td></tr>,\n",
       " <tr class=\"content-row\"><td>53</td><td><a class=\"text-button\" href=\"/the-world-factbook/countries/qatar/\">Qatar</a></td><td>80.3</td><td>2024 est.</td></tr>,\n",
       " <tr class=\"content-row\"><td>54</td><td><a class=\"text-button\" href=\"/the-world-factbook/countries/costa-rica/\">Costa Rica</a></td><td>80.3</td><td>2024 est.</td></tr>,\n",
       " <tr class=\"content-row\"><td>55</td><td><a class=\"text-button\" href=\"/the-world-factbook/countries/chile/\">Chile</a></td><td>80.3</td><td>2024 est.</td></tr>,\n",
       " <tr class=\"content-row\"><td>56</td><td><a class=\"text-button\" href=\"/the-world-factbook/countries/cyprus/\">Cyprus</a></td><td>80.2</td><td>2024 est.</td></tr>,\n",
       " <tr class=\"content-row\"><td>57</td><td><a class=\"text-button\" href=\"/the-world-factbook/countries/british-virgin-islands/\">British Virgin Islands</a></td><td>80.1</td><td>2024 est.</td></tr>,\n",
       " <tr class=\"content-row\"><td>58</td><td><a class=\"text-button\" href=\"/the-world-factbook/countries/cuba/\">Cuba</a></td><td>80.1</td><td>2024 est.</td></tr>,\n",
       " <tr class=\"content-row\"><td>59</td><td><a class=\"text-button\" href=\"/the-world-factbook/countries/curacao/\">Curacao</a></td><td>79.9</td><td>2024 est.</td></tr>,\n",
       " <tr class=\"content-row\"><td>60</td><td><a class=\"text-button\" href=\"/the-world-factbook/countries/united-arab-emirates/\">United Arab Emirates</a></td><td>79.9</td><td>2024 est.</td></tr>,\n",
       " <tr class=\"content-row\"><td>61</td><td><a class=\"text-button\" href=\"/the-world-factbook/countries/albania/\">Albania</a></td><td>79.9</td><td>2024 est.</td></tr>,\n",
       " <tr class=\"content-row\"><td>62</td><td><a class=\"text-button\" href=\"/the-world-factbook/countries/sint-maarten/\">Sint Maarten</a></td><td>79.7</td><td>2024 est.</td></tr>,\n",
       " <tr class=\"content-row\"><td>63</td><td><a class=\"text-button\" href=\"/the-world-factbook/countries/kuwait/\">Kuwait</a></td><td>79.6</td><td>2024 est.</td></tr>,\n",
       " <tr class=\"content-row\"><td>64</td><td><a class=\"text-button\" href=\"/the-world-factbook/countries/saint-lucia/\">Saint Lucia</a></td><td>79.4</td><td>2024 est.</td></tr>,\n",
       " <tr class=\"content-row\"><td>65</td><td><a class=\"text-button\" href=\"/the-world-factbook/countries/new-caledonia/\">New Caledonia</a></td><td>79.3</td><td>2024 est.</td></tr>,\n",
       " <tr class=\"content-row\"><td>66</td><td><a class=\"text-button\" href=\"/the-world-factbook/countries/panama/\">Panama</a></td><td>79.2</td><td>2024 est.</td></tr>,\n",
       " <tr class=\"content-row\"><td>67</td><td><a class=\"text-button\" href=\"/the-world-factbook/countries/lebanon/\">Lebanon</a></td><td>79.2</td><td>2024 est.</td></tr>,\n",
       " <tr class=\"content-row\"><td>68</td><td><a class=\"text-button\" href=\"/the-world-factbook/countries/barbados/\">Barbados</a></td><td>79</td><td>2024 est.</td></tr>,\n",
       " <tr class=\"content-row\"><td>69</td><td><a class=\"text-button\" href=\"/the-world-factbook/countries/french-polynesia/\">French Polynesia</a></td><td>78.9</td><td>2024 est.</td></tr>,\n",
       " <tr class=\"content-row\"><td>70</td><td><a class=\"text-button\" href=\"/the-world-factbook/countries/uruguay/\">Uruguay</a></td><td>78.9</td><td>2024 est.</td></tr>,\n",
       " <tr class=\"content-row\"><td>71</td><td><a class=\"text-button\" href=\"/the-world-factbook/countries/brunei/\">Brunei</a></td><td>78.9</td><td>2024 est.</td></tr>,\n",
       " <tr class=\"content-row\"><td>72</td><td><a class=\"text-button\" href=\"/the-world-factbook/countries/argentina/\">Argentina</a></td><td>78.8</td><td>2024 est.</td></tr>,\n",
       " <tr class=\"content-row\"><td>73</td><td><a class=\"text-button\" href=\"/the-world-factbook/countries/paraguay/\">Paraguay</a></td><td>78.8</td><td>2024 est.</td></tr>,\n",
       " <tr class=\"content-row\"><td>74</td><td><a class=\"text-button\" href=\"/the-world-factbook/countries/dominica/\">Dominica</a></td><td>78.7</td><td>2024 est.</td></tr>,\n",
       " <tr class=\"content-row\"><td>75</td><td><a class=\"text-button\" href=\"/the-world-factbook/countries/china/\">China</a></td><td>78.7</td><td>2024 est.</td></tr>,\n",
       " <tr class=\"content-row\"><td>76</td><td><a class=\"text-button\" href=\"/the-world-factbook/countries/czechia/\">Czechia</a></td><td>78.6</td><td>2024 est.</td></tr>,\n",
       " <tr class=\"content-row\"><td>77</td><td><a class=\"text-button\" href=\"/the-world-factbook/countries/bosnia-and-herzegovina/\">Bosnia and Herzegovina</a></td><td>78.5</td><td>2024 est.</td></tr>,\n",
       " <tr class=\"content-row\"><td>78</td><td><a class=\"text-button\" href=\"/the-world-factbook/countries/aruba/\">Aruba</a></td><td>78.5</td><td>2024 est.</td></tr>,\n",
       " <tr class=\"content-row\"><td>79</td><td><a class=\"text-button\" href=\"/the-world-factbook/countries/estonia/\">Estonia</a></td><td>78.4</td><td>2024 est.</td></tr>,\n",
       " <tr class=\"content-row\"><td>80</td><td><a class=\"text-button\" href=\"/the-world-factbook/countries/antigua-and-barbuda/\">Antigua and Barbuda</a></td><td>78.3</td><td>2024 est.</td></tr>,\n",
       " <tr class=\"content-row\"><td>81</td><td><a class=\"text-button\" href=\"/the-world-factbook/countries/thailand/\">Thailand</a></td><td>78.2</td><td>2024 est.</td></tr>,\n",
       " <tr class=\"content-row\"><td>82</td><td><a class=\"text-button\" href=\"/the-world-factbook/countries/montenegro/\">Montenegro</a></td><td>78.2</td><td>2024 est.</td></tr>,\n",
       " <tr class=\"content-row\"><td>83</td><td><a class=\"text-button\" href=\"/the-world-factbook/countries/guam/\">Guam</a></td><td>78</td><td>2024 est.</td></tr>,\n",
       " <tr class=\"content-row\"><td>84</td><td><a class=\"text-button\" href=\"/the-world-factbook/countries/tonga/\">Tonga</a></td><td>78</td><td>2024 est.</td></tr>,\n",
       " <tr class=\"content-row\"><td>85</td><td><a class=\"text-button\" href=\"/the-world-factbook/countries/algeria/\">Algeria</a></td><td>77.9</td><td>2024 est.</td></tr>,\n",
       " <tr class=\"content-row\"><td>86</td><td><a class=\"text-button\" href=\"/the-world-factbook/countries/croatia/\">Croatia</a></td><td>77.7</td><td>2024 est.</td></tr>,\n",
       " <tr class=\"content-row\"><td>87</td><td><a class=\"text-button\" href=\"/the-world-factbook/countries/libya/\">Libya</a></td><td>77.7</td><td>2024 est.</td></tr>,\n",
       " <tr class=\"content-row\"><td>88</td><td><a class=\"text-button\" href=\"/the-world-factbook/countries/cook-islands/\">Cook Islands</a></td><td>77.6</td><td>2024 est.</td></tr>,\n",
       " <tr class=\"content-row\"><td>89</td><td><a class=\"text-button\" href=\"/the-world-factbook/countries/saint-kitts-and-nevis/\">Saint Kitts and Nevis</a></td><td>77.6</td><td>2024 est.</td></tr>,\n",
       " <tr class=\"content-row\"><td>90</td><td><a class=\"text-button\" href=\"/the-world-factbook/countries/maldives/\">Maldives</a></td><td>77.4</td><td>2024 est.</td></tr>,\n",
       " <tr class=\"content-row\"><td>91</td><td><a class=\"text-button\" href=\"/the-world-factbook/countries/oman/\">Oman</a></td><td>77.4</td><td>2024 est.</td></tr>,\n",
       " <tr class=\"content-row\"><td>92</td><td><a class=\"text-button\" href=\"/the-world-factbook/countries/north-macedonia/\">North Macedonia</a></td><td>77.3</td><td>2024 est.</td></tr>,\n",
       " <tr class=\"content-row\"><td>93</td><td><a class=\"text-button\" href=\"/the-world-factbook/countries/tunisia/\">Tunisia</a></td><td>77.3</td><td>2024 est.</td></tr>,\n",
       " <tr class=\"content-row\"><td>94</td><td><a class=\"text-button\" href=\"/the-world-factbook/countries/slovakia/\">Slovakia</a></td><td>77.2</td><td>2024 est.</td></tr>,\n",
       " <tr class=\"content-row\"><td>95</td><td><a class=\"text-button\" href=\"/the-world-factbook/countries/solomon-islands/\">Solomon Islands</a></td><td>77.2</td><td>2024 est.</td></tr>,\n",
       " <tr class=\"content-row\"><td>96</td><td><a class=\"text-button\" href=\"/the-world-factbook/countries/saint-vincent-and-the-grenadines/\">Saint Vincent and the Grenadines</a></td><td>77.2</td><td>2024 est.</td></tr>,\n",
       " <tr class=\"content-row\"><td>97</td><td><a class=\"text-button\" href=\"/the-world-factbook/countries/saudi-arabia/\">Saudi Arabia</a></td><td>77.2</td><td>2024 est.</td></tr>,\n",
       " <tr class=\"content-row\"><td>98</td><td><a class=\"text-button\" href=\"/the-world-factbook/countries/northern-mariana-islands/\">Northern Mariana Islands</a></td><td>77.1</td><td>2024 est.</td></tr>,\n",
       " <tr class=\"content-row\"><td>99</td><td><a class=\"text-button\" href=\"/the-world-factbook/countries/romania/\">Romania</a></td><td>76.9</td><td>2024 est.</td></tr>,\n",
       " <tr class=\"content-row\"><td>100</td><td><a class=\"text-button\" href=\"/the-world-factbook/countries/sri-lanka/\">Sri Lanka</a></td><td>76.8</td><td>2024 est.</td></tr>,\n",
       " <tr class=\"content-row\"><td>101</td><td><a class=\"text-button\" href=\"/the-world-factbook/countries/poland/\">Poland</a></td><td>76.7</td><td>2024 est.</td></tr>,\n",
       " <tr class=\"content-row\"><td>102</td><td><a class=\"text-button\" href=\"/the-world-factbook/countries/armenia/\">Armenia</a></td><td>76.7</td><td>2024 est.</td></tr>,\n",
       " <tr class=\"content-row\"><td>103</td><td><a class=\"text-button\" href=\"/the-world-factbook/countries/turkey-turkiye/\">Turkey (Turkiye)</a></td><td>76.7</td><td>2024 est.</td></tr>,\n",
       " <tr class=\"content-row\"><td>104</td><td><a class=\"text-button\" href=\"/the-world-factbook/countries/bahamas-the/\">Bahamas, The</a></td><td>76.7</td><td>2024 est.</td></tr>,\n",
       " <tr class=\"content-row\"><td>105</td><td><a class=\"text-button\" href=\"/the-world-factbook/countries/seychelles/\">Seychelles</a></td><td>76.6</td><td>2024 est.</td></tr>,\n",
       " <tr class=\"content-row\"><td>106</td><td><a class=\"text-button\" href=\"/the-world-factbook/countries/malaysia/\">Malaysia</a></td><td>76.6</td><td>2024 est.</td></tr>,\n",
       " <tr class=\"content-row\"><td>107</td><td><a class=\"text-button\" href=\"/the-world-factbook/countries/trinidad-and-tobago/\">Trinidad and Tobago</a></td><td>76.5</td><td>2024 est.</td></tr>,\n",
       " <tr class=\"content-row\"><td>108</td><td><a class=\"text-button\" href=\"/the-world-factbook/countries/west-bank/\">West Bank</a></td><td>76.5</td><td>2024 est.</td></tr>,\n",
       " <tr class=\"content-row\"><td>109</td><td><a class=\"text-button\" href=\"/the-world-factbook/countries/jordan/\">Jordan</a></td><td>76.5</td><td>2024 est.</td></tr>,\n",
       " <tr class=\"content-row\"><td>110</td><td><a class=\"text-button\" href=\"/the-world-factbook/countries/latvia/\">Latvia</a></td><td>76.4</td><td>2024 est.</td></tr>,\n",
       " <tr class=\"content-row\"><td>111</td><td><a class=\"text-button\" href=\"/the-world-factbook/countries/jamaica/\">Jamaica</a></td><td>76.3</td><td>2024 est.</td></tr>,\n",
       " <tr class=\"content-row\"><td>112</td><td><a class=\"text-button\" href=\"/the-world-factbook/countries/grenada/\">Grenada</a></td><td>76.3</td><td>2024 est.</td></tr>,\n",
       " <tr class=\"content-row\"><td>113</td><td><a class=\"text-button\" href=\"/the-world-factbook/countries/brazil/\">Brazil</a></td><td>76.3</td><td>2024 est.</td></tr>,\n",
       " <tr class=\"content-row\"><td>114</td><td><a class=\"text-button\" href=\"/the-world-factbook/countries/uzbekistan/\">Uzbekistan</a></td><td>76.2</td><td>2024 est.</td></tr>,\n",
       " <tr class=\"content-row\"><td>115</td><td><a class=\"text-button\" href=\"/the-world-factbook/countries/vietnam/\">Vietnam</a></td><td>76.1</td><td>2024 est.</td></tr>,\n",
       " <tr class=\"content-row\"><td>116</td><td><a class=\"text-button\" href=\"/the-world-factbook/countries/montserrat/\">Montserrat</a></td><td>76.1</td><td>2024 est.</td></tr>,\n",
       " <tr class=\"content-row\"><td>117</td><td><a class=\"text-button\" href=\"/the-world-factbook/countries/lithuania/\">Lithuania</a></td><td>76.1</td><td>2024 est.</td></tr>,\n",
       " <tr class=\"content-row\"><td>118</td><td><a class=\"text-button\" href=\"/the-world-factbook/countries/bulgaria/\">Bulgaria</a></td><td>76.1</td><td>2024 est.</td></tr>,\n",
       " <tr class=\"content-row\"><td>119</td><td><a class=\"text-button\" href=\"/the-world-factbook/countries/hungary/\">Hungary</a></td><td>76</td><td>2024 est.</td></tr>,\n",
       " <tr class=\"content-row\"><td>120</td><td><a class=\"text-button\" href=\"/the-world-factbook/countries/azerbaijan/\">Azerbaijan</a></td><td>75.9</td><td>2024 est.</td></tr>,\n",
       " <tr class=\"content-row\"><td>121</td><td><a class=\"text-button\" href=\"/the-world-factbook/countries/el-salvador/\">El Salvador</a></td><td>75.9</td><td>2024 est.</td></tr>,\n",
       " <tr class=\"content-row\"><td>122</td><td><a class=\"text-button\" href=\"/the-world-factbook/countries/american-samoa/\">American Samoa</a></td><td>75.8</td><td>2024 est.</td></tr>,\n",
       " <tr class=\"content-row\"><td>123</td><td><a class=\"text-button\" href=\"/the-world-factbook/countries/vanuatu/\">Vanuatu</a></td><td>75.7</td><td>2024 est.</td></tr>,\n",
       " <tr class=\"content-row\"><td>124</td><td><a class=\"text-button\" href=\"/the-world-factbook/countries/samoa/\">Samoa</a></td><td>75.7</td><td>2024 est.</td></tr>,\n",
       " <tr class=\"content-row\"><td>125</td><td><a class=\"text-button\" href=\"/the-world-factbook/countries/iran/\">Iran</a></td><td>75.6</td><td>2024 est.</td></tr>,\n",
       " <tr class=\"content-row\"><td>126</td><td><a class=\"text-button\" href=\"/the-world-factbook/countries/gaza-strip/\">Gaza Strip</a></td><td>75.5</td><td>2024 est.</td></tr>,\n",
       " <tr class=\"content-row\"><td>127</td><td><a class=\"text-button\" href=\"/the-world-factbook/countries/mauritius/\">Mauritius</a></td><td>75.4</td><td>2024 est.</td></tr>,\n",
       " <tr class=\"content-row\"><td>128</td><td><a class=\"text-button\" href=\"/the-world-factbook/countries/serbia/\">Serbia</a></td><td>75.3</td><td>2024 est.</td></tr>,\n",
       " <tr class=\"content-row\"><td>129</td><td><a class=\"text-button\" href=\"/the-world-factbook/countries/bangladesh/\">Bangladesh</a></td><td>75.2</td><td>2024 est.</td></tr>,\n",
       " <tr class=\"content-row\"><td>130</td><td><a class=\"text-button\" href=\"/the-world-factbook/countries/marshall-islands/\">Marshall Islands</a></td><td>75.2</td><td>2024 est.</td></tr>,\n",
       " <tr class=\"content-row\"><td>131</td><td><a class=\"text-button\" href=\"/the-world-factbook/countries/palau/\">Palau</a></td><td>75.2</td><td>2024 est.</td></tr>,\n",
       " <tr class=\"content-row\"><td>132</td><td><a class=\"text-button\" href=\"/the-world-factbook/countries/egypt/\">Egypt</a></td><td>75</td><td>2024 est.</td></tr>,\n",
       " <tr class=\"content-row\"><td>133</td><td><a class=\"text-button\" href=\"/the-world-factbook/countries/micronesia-federated-states-of/\">Micronesia, Federated States of</a></td><td>75</td><td>2024 est.</td></tr>,\n",
       " <tr class=\"content-row\"><td>134</td><td><a class=\"text-button\" href=\"/the-world-factbook/countries/colombia/\">Colombia</a></td><td>74.9</td><td>2024 est.</td></tr>,\n",
       " <tr class=\"content-row\"><td>135</td><td><a class=\"text-button\" href=\"/the-world-factbook/countries/ecuador/\">Ecuador</a></td><td>74.9</td><td>2024 est.</td></tr>,\n",
       " <tr class=\"content-row\"><td>136</td><td><a class=\"text-button\" href=\"/the-world-factbook/countries/fiji/\">Fiji</a></td><td>74.8</td><td>2024 est.</td></tr>,\n",
       " <tr class=\"content-row\"><td>137</td><td><a class=\"text-button\" href=\"/the-world-factbook/countries/syria/\">Syria</a></td><td>74.8</td><td>2024 est.</td></tr>,\n",
       " <tr class=\"content-row\"><td>138</td><td><a class=\"text-button\" href=\"/the-world-factbook/countries/belarus/\">Belarus</a></td><td>74.7</td><td>2024 est.</td></tr>,\n",
       " <tr class=\"content-row\"><td>139</td><td><a class=\"text-button\" href=\"/the-world-factbook/countries/nicaragua/\">Nicaragua</a></td><td>74.7</td><td>2024 est.</td></tr>,\n",
       " <tr class=\"content-row\"><td>140</td><td><a class=\"text-button\" href=\"/the-world-factbook/countries/mexico/\">Mexico</a></td><td>74.6</td><td>2024 est.</td></tr>,\n",
       " <tr class=\"content-row\"><td>141</td><td><a class=\"text-button\" href=\"/the-world-factbook/countries/greenland/\">Greenland</a></td><td>74.5</td><td>2024 est.</td></tr>,\n",
       " <tr class=\"content-row\"><td>142</td><td><a class=\"text-button\" href=\"/the-world-factbook/countries/venezuela/\">Venezuela</a></td><td>74.5</td><td>2024 est.</td></tr>,\n",
       " <tr class=\"content-row\"><td>143</td><td><a class=\"text-button\" href=\"/the-world-factbook/countries/belize/\">Belize</a></td><td>74.3</td><td>2024 est.</td></tr>,\n",
       " <tr class=\"content-row\"><td>144</td><td><a class=\"text-button\" href=\"/the-world-factbook/countries/cabo-verde/\">Cabo Verde</a></td><td>74.3</td><td>2024 est.</td></tr>,\n",
       " <tr class=\"content-row\"><td>145</td><td><a class=\"text-button\" href=\"/the-world-factbook/countries/morocco/\">Morocco</a></td><td>74.2</td><td>2024 est.</td></tr>,\n",
       " <tr class=\"content-row\"><td>146</td><td><a class=\"text-button\" href=\"/the-world-factbook/countries/iraq/\">Iraq</a></td><td>73.7</td><td>2024 est.</td></tr>,\n",
       " <tr class=\"content-row\"><td>147</td><td><a class=\"text-button\" href=\"/the-world-factbook/countries/bhutan/\">Bhutan</a></td><td>73.7</td><td>2024 est.</td></tr>,\n",
       " <tr class=\"content-row\"><td>148</td><td><a class=\"text-button\" href=\"/the-world-factbook/countries/indonesia/\">Indonesia</a></td><td>73.6</td><td>2024 est.</td></tr>,\n",
       " <tr class=\"content-row\"><td>149</td><td><a class=\"text-button\" href=\"/the-world-factbook/countries/guatemala/\">Guatemala</a></td><td>73.5</td><td>2024 est.</td></tr>,\n",
       " <tr class=\"content-row\"><td>150</td><td><a class=\"text-button\" href=\"/the-world-factbook/countries/korea-north/\">Korea, North</a></td><td>73.5</td><td>2024 est.</td></tr>,\n",
       " <tr class=\"content-row\"><td>151</td><td><a class=\"text-button\" href=\"/the-world-factbook/countries/kazakhstan/\">Kazakhstan</a></td><td>73.3</td><td>2024 est.</td></tr>,\n",
       " <tr class=\"content-row\"><td>152</td><td><a class=\"text-button\" href=\"/the-world-factbook/countries/honduras/\">Honduras</a></td><td>73.1</td><td>2024 est.</td></tr>,\n",
       " <tr class=\"content-row\"><td>153</td><td><a class=\"text-button\" href=\"/the-world-factbook/countries/kosovo/\">Kosovo</a></td><td>73.1</td><td>2024 est.</td></tr>,\n",
       " <tr class=\"content-row\"><td>154</td><td><a class=\"text-button\" href=\"/the-world-factbook/countries/nepal/\">Nepal</a></td><td>73</td><td>2024 est.</td></tr>,\n",
       " <tr class=\"content-row\"><td>155</td><td><a class=\"text-button\" href=\"/the-world-factbook/countries/malawi/\">Malawi</a></td><td>73</td><td>2024 est.</td></tr>,\n",
       " <tr class=\"content-row\"><td>156</td><td><a class=\"text-button\" href=\"/the-world-factbook/countries/congo-republic-of-the/\">Congo, Republic of the</a></td><td>72.9</td><td>2024 est.</td></tr>,\n",
       " <tr class=\"content-row\"><td>157</td><td><a class=\"text-button\" href=\"/the-world-factbook/countries/kyrgyzstan/\">Kyrgyzstan</a></td><td>72.9</td><td>2024 est.</td></tr>,\n",
       " <tr class=\"content-row\"><td>158</td><td><a class=\"text-button\" href=\"/the-world-factbook/countries/georgia/\">Georgia</a></td><td>72.8</td><td>2024 est.</td></tr>,\n",
       " <tr class=\"content-row\"><td>159</td><td><a class=\"text-button\" href=\"/the-world-factbook/countries/suriname/\">Suriname</a></td><td>72.7</td><td>2024 est.</td></tr>,\n",
       " <tr class=\"content-row\"><td>160</td><td><a class=\"text-button\" href=\"/the-world-factbook/countries/dominican-republic/\">Dominican Republic</a></td><td>72.6</td><td>2024 est.</td></tr>,\n",
       " <tr class=\"content-row\"><td>161</td><td><a class=\"text-button\" href=\"/the-world-factbook/countries/bolivia/\">Bolivia</a></td><td>72.5</td><td>2024 est.</td></tr>,\n",
       " <tr class=\"content-row\"><td>162</td><td><a class=\"text-button\" href=\"/the-world-factbook/countries/turkmenistan/\">Turkmenistan</a></td><td>72.4</td><td>2024 est.</td></tr>,\n",
       " <tr class=\"content-row\"><td>163</td><td><a class=\"text-button\" href=\"/the-world-factbook/countries/guyana/\">Guyana</a></td><td>72.4</td><td>2024 est.</td></tr>,\n",
       " <tr class=\"content-row\"><td>164</td><td><a class=\"text-button\" href=\"/the-world-factbook/countries/russia/\">Russia</a></td><td>72.3</td><td>2024 est.</td></tr>,\n",
       " <tr class=\"content-row\"><td>165</td><td><a class=\"text-button\" href=\"/the-world-factbook/countries/togo/\">Togo</a></td><td>72.1</td><td>2024 est.</td></tr>,\n",
       " <tr class=\"content-row\"><td>166</td><td><a class=\"text-button\" href=\"/the-world-factbook/countries/south-africa/\">South Africa</a></td><td>71.9</td><td>2024 est.</td></tr>,\n",
       " <tr class=\"content-row\"><td>167</td><td><a class=\"text-button\" href=\"/the-world-factbook/countries/tajikistan/\">Tajikistan</a></td><td>71.9</td><td>2024 est.</td></tr>,\n",
       " <tr class=\"content-row\"><td>168</td><td><a class=\"text-button\" href=\"/the-world-factbook/countries/mongolia/\">Mongolia</a></td><td>71.9</td><td>2024 est.</td></tr>,\n",
       " <tr class=\"content-row\"><td>169</td><td><a class=\"text-button\" href=\"/the-world-factbook/countries/cambodia/\">Cambodia</a></td><td>71.4</td><td>2024 est.</td></tr>,\n",
       " <tr class=\"content-row\"><td>170</td><td><a class=\"text-button\" href=\"/the-world-factbook/countries/philippines/\">Philippines</a></td><td>70.8</td><td>2024 est.</td></tr>,\n",
       " <tr class=\"content-row\"><td>171</td><td><a class=\"text-button\" href=\"/the-world-factbook/countries/tanzania/\">Tanzania</a></td><td>70.8</td><td>2024 est.</td></tr>,\n",
       " <tr class=\"content-row\"><td>172</td><td><a class=\"text-button\" href=\"/the-world-factbook/countries/senegal/\">Senegal</a></td><td>70.6</td><td>2024 est.</td></tr>,\n",
       " <tr class=\"content-row\"><td>173</td><td><a class=\"text-button\" href=\"/the-world-factbook/countries/ukraine/\">Ukraine</a></td><td>70.5</td><td>2024 est.</td></tr>,\n",
       " <tr class=\"content-row\"><td>174</td><td><a class=\"text-button\" href=\"/the-world-factbook/countries/timor-leste/\">Timor-Leste</a></td><td>70.5</td><td>2024 est.</td></tr>,\n",
       " <tr class=\"content-row\"><td>175</td><td><a class=\"text-button\" href=\"/the-world-factbook/countries/gabon/\">Gabon</a></td><td>70.4</td><td>2024 est.</td></tr>,\n",
       " <tr class=\"content-row\"><td>176</td><td><a class=\"text-button\" href=\"/the-world-factbook/countries/kenya/\">Kenya</a></td><td>70.4</td><td>2024 est.</td></tr>,\n",
       " <tr class=\"content-row\"><td>177</td><td><a class=\"text-button\" href=\"/the-world-factbook/countries/burma/\">Burma</a></td><td>70.3</td><td>2024 est.</td></tr>,\n",
       " <tr class=\"content-row\"><td>178</td><td><a class=\"text-button\" href=\"/the-world-factbook/countries/pakistan/\">Pakistan</a></td><td>70.3</td><td>2024 est.</td></tr>,\n",
       " <tr class=\"content-row\"><td>179</td><td><a class=\"text-button\" href=\"/the-world-factbook/countries/moldova/\">Moldova</a></td><td>70.1</td><td>2024 est.</td></tr>,\n",
       " <tr class=\"content-row\"><td>180</td><td><a class=\"text-button\" href=\"/the-world-factbook/countries/ghana/\">Ghana</a></td><td>70.1</td><td>2024 est.</td></tr>,\n",
       " <tr class=\"content-row\"><td>181</td><td><a class=\"text-button\" href=\"/the-world-factbook/countries/papua-new-guinea/\">Papua New Guinea</a></td><td>70.1</td><td>2024 est.</td></tr>,\n",
       " <tr class=\"content-row\"><td>182</td><td><a class=\"text-button\" href=\"/the-world-factbook/countries/uganda/\">Uganda</a></td><td>69.7</td><td>2024 est.</td></tr>,\n",
       " <tr class=\"content-row\"><td>183</td><td><a class=\"text-button\" href=\"/the-world-factbook/countries/laos/\">Laos</a></td><td>69</td><td>2024 est.</td></tr>,\n",
       " <tr class=\"content-row\"><td>184</td><td><a class=\"text-button\" href=\"/the-world-factbook/countries/tuvalu/\">Tuvalu</a></td><td>69</td><td>2024 est.</td></tr>,\n",
       " <tr class=\"content-row\"><td>185</td><td><a class=\"text-button\" href=\"/the-world-factbook/countries/peru/\">Peru</a></td><td>68.9</td><td>2024 est.</td></tr>,\n",
       " <tr class=\"content-row\"><td>186</td><td><a class=\"text-button\" href=\"/the-world-factbook/countries/madagascar/\">Madagascar</a></td><td>68.8</td><td>2024 est.</td></tr>,\n",
       " <tr class=\"content-row\"><td>187</td><td><a class=\"text-button\" href=\"/the-world-factbook/countries/nauru/\">Nauru</a></td><td>68.6</td><td>2024 est.</td></tr>,\n",
       " <tr class=\"content-row\"><td>188</td><td><a class=\"text-button\" href=\"/the-world-factbook/countries/kiribati/\">Kiribati</a></td><td>68.5</td><td>2024 est.</td></tr>,\n",
       " <tr class=\"content-row\"><td>189</td><td><a class=\"text-button\" href=\"/the-world-factbook/countries/gambia-the/\">Gambia, The</a></td><td>68.4</td><td>2024 est.</td></tr>,\n",
       " <tr class=\"content-row\"><td>190</td><td><a class=\"text-button\" href=\"/the-world-factbook/countries/india/\">India</a></td><td>68.2</td><td>2024 est.</td></tr>,\n",
       " <tr class=\"content-row\"><td>191</td><td><a class=\"text-button\" href=\"/the-world-factbook/countries/yemen/\">Yemen</a></td><td>68.2</td><td>2024 est.</td></tr>,\n",
       " <tr class=\"content-row\"><td>192</td><td><a class=\"text-button\" href=\"/the-world-factbook/countries/burundi/\">Burundi</a></td><td>68.1</td><td>2024 est.</td></tr>,\n",
       " <tr class=\"content-row\"><td>193</td><td><a class=\"text-button\" href=\"/the-world-factbook/countries/comoros/\">Comoros</a></td><td>67.8</td><td>2024 est.</td></tr>,\n",
       " <tr class=\"content-row\"><td>194</td><td><a class=\"text-button\" href=\"/the-world-factbook/countries/sudan/\">Sudan</a></td><td>67.8</td><td>2024 est.</td></tr>,\n",
       " <tr class=\"content-row\"><td>195</td><td><a class=\"text-button\" href=\"/the-world-factbook/countries/sao-tome-and-principe/\">Sao Tome and Principe</a></td><td>67.7</td><td>2024 est.</td></tr>,\n",
       " <tr class=\"content-row\"><td>196</td><td><a class=\"text-button\" href=\"/the-world-factbook/countries/ethiopia/\">Ethiopia</a></td><td>67.7</td><td>2024 est.</td></tr>,\n",
       " <tr class=\"content-row\"><td>197</td><td><a class=\"text-button\" href=\"/the-world-factbook/countries/eritrea/\">Eritrea</a></td><td>67.5</td><td>2024 est.</td></tr>,\n",
       " <tr class=\"content-row\"><td>198</td><td><a class=\"text-button\" href=\"/the-world-factbook/countries/zimbabwe/\">Zimbabwe</a></td><td>67.2</td><td>2024 est.</td></tr>,\n",
       " <tr class=\"content-row\"><td>199</td><td><a class=\"text-button\" href=\"/the-world-factbook/countries/zambia/\">Zambia</a></td><td>66.9</td><td>2024 est.</td></tr>,\n",
       " <tr class=\"content-row\"><td>200</td><td><a class=\"text-button\" href=\"/the-world-factbook/countries/rwanda/\">Rwanda</a></td><td>66.6</td><td>2024 est.</td></tr>,\n",
       " <tr class=\"content-row\"><td>201</td><td><a class=\"text-button\" href=\"/the-world-factbook/countries/botswana/\">Botswana</a></td><td>66.4</td><td>2024 est.</td></tr>,\n",
       " <tr class=\"content-row\"><td>202</td><td><a class=\"text-button\" href=\"/the-world-factbook/countries/djibouti/\">Djibouti</a></td><td>65.9</td><td>2024 est.</td></tr>,\n",
       " <tr class=\"content-row\"><td>203</td><td><a class=\"text-button\" href=\"/the-world-factbook/countries/namibia/\">Namibia</a></td><td>65.9</td><td>2024 est.</td></tr>,\n",
       " <tr class=\"content-row\"><td>204</td><td><a class=\"text-button\" href=\"/the-world-factbook/countries/mauritania/\">Mauritania</a></td><td>65.9</td><td>2024 est.</td></tr>,\n",
       " <tr class=\"content-row\"><td>205</td><td><a class=\"text-button\" href=\"/the-world-factbook/countries/haiti/\">Haiti</a></td><td>65.6</td><td>2024 est.</td></tr>,\n",
       " <tr class=\"content-row\"><td>206</td><td><a class=\"text-button\" href=\"/the-world-factbook/countries/guinea/\">Guinea</a></td><td>64.6</td><td>2024 est.</td></tr>,\n",
       " <tr class=\"content-row\"><td>207</td><td><a class=\"text-button\" href=\"/the-world-factbook/countries/guinea-bissau/\">Guinea-Bissau</a></td><td>64.5</td><td>2024 est.</td></tr>,\n",
       " <tr class=\"content-row\"><td>208</td><td><a class=\"text-button\" href=\"/the-world-factbook/countries/burkina-faso/\">Burkina Faso</a></td><td>64.2</td><td>2024 est.</td></tr>,\n",
       " <tr class=\"content-row\"><td>209</td><td><a class=\"text-button\" href=\"/the-world-factbook/countries/cameroon/\">Cameroon</a></td><td>64.2</td><td>2024 est.</td></tr>,\n",
       " <tr class=\"content-row\"><td>210</td><td><a class=\"text-button\" href=\"/the-world-factbook/countries/equatorial-guinea/\">Equatorial Guinea</a></td><td>63.9</td><td>2024 est.</td></tr>,\n",
       " <tr class=\"content-row\"><td>211</td><td><a class=\"text-button\" href=\"/the-world-factbook/countries/mali/\">Mali</a></td><td>63.2</td><td>2024 est.</td></tr>,\n",
       " <tr class=\"content-row\"><td>212</td><td><a class=\"text-button\" href=\"/the-world-factbook/countries/cote-divoire/\">Cote d'Ivoire</a></td><td>63.2</td><td>2024 est.</td></tr>,\n",
       " <tr class=\"content-row\"><td>213</td><td><a class=\"text-button\" href=\"/the-world-factbook/countries/benin/\">Benin</a></td><td>63</td><td>2024 est.</td></tr>,\n",
       " <tr class=\"content-row\"><td>214</td><td><a class=\"text-button\" href=\"/the-world-factbook/countries/angola/\">Angola</a></td><td>62.9</td><td>2024 est.</td></tr>,\n",
       " <tr class=\"content-row\"><td>215</td><td><a class=\"text-button\" href=\"/the-world-factbook/countries/congo-democratic-republic-of-the/\">Congo, Democratic Republic of the</a></td><td>62.6</td><td>2024 est.</td></tr>,\n",
       " <tr class=\"content-row\"><td>216</td><td><a class=\"text-button\" href=\"/the-world-factbook/countries/nigeria/\">Nigeria</a></td><td>62.2</td><td>2024 est.</td></tr>,\n",
       " <tr class=\"content-row\"><td>217</td><td><a class=\"text-button\" href=\"/the-world-factbook/countries/liberia/\">Liberia</a></td><td>61.6</td><td>2024 est.</td></tr>,\n",
       " <tr class=\"content-row\"><td>218</td><td><a class=\"text-button\" href=\"/the-world-factbook/countries/niger/\">Niger</a></td><td>60.9</td><td>2024 est.</td></tr>,\n",
       " <tr class=\"content-row\"><td>219</td><td><a class=\"text-button\" href=\"/the-world-factbook/countries/eswatini/\">Eswatini</a></td><td>60.7</td><td>2024 est.</td></tr>,\n",
       " <tr class=\"content-row\"><td>220</td><td><a class=\"text-button\" href=\"/the-world-factbook/countries/south-sudan/\">South Sudan</a></td><td>60.3</td><td>2024 est.</td></tr>,\n",
       " <tr class=\"content-row\"><td>221</td><td><a class=\"text-button\" href=\"/the-world-factbook/countries/lesotho/\">Lesotho</a></td><td>60.2</td><td>2024 est.</td></tr>,\n",
       " <tr class=\"content-row\"><td>222</td><td><a class=\"text-button\" href=\"/the-world-factbook/countries/chad/\">Chad</a></td><td>60</td><td>2024 est.</td></tr>,\n",
       " <tr class=\"content-row\"><td>223</td><td><a class=\"text-button\" href=\"/the-world-factbook/countries/sierra-leone/\">Sierra Leone</a></td><td>59.4</td><td>2024 est.</td></tr>,\n",
       " <tr class=\"content-row\"><td>224</td><td><a class=\"text-button\" href=\"/the-world-factbook/countries/mozambique/\">Mozambique</a></td><td>58.3</td><td>2024 est.</td></tr>,\n",
       " <tr class=\"content-row\"><td>225</td><td><a class=\"text-button\" href=\"/the-world-factbook/countries/somalia/\">Somalia</a></td><td>56.5</td><td>2024 est.</td></tr>,\n",
       " <tr class=\"content-row\"><td>226</td><td><a class=\"text-button\" href=\"/the-world-factbook/countries/central-african-republic/\">Central African Republic</a></td><td>56.4</td><td>2024 est.</td></tr>,\n",
       " <tr class=\"content-row\"><td>227</td><td><a class=\"text-button\" href=\"/the-world-factbook/countries/afghanistan/\">Afghanistan</a></td><td>54.4</td><td>2024 est.</td></tr>]"
      ]
     },
     "execution_count": 23,
     "metadata": {},
     "output_type": "execute_result"
    }
   ],
   "source": [
    "table.find_all('tr')"
   ]
  },
  {
   "cell_type": "code",
   "execution_count": 25,
   "id": "cf1087bd-05f9-4693-bd6b-50532c68ef7e",
   "metadata": {},
   "outputs": [],
   "source": [
    "column_data = table.find_all('tr')"
   ]
  },
  {
   "cell_type": "code",
   "execution_count": 27,
   "id": "bc867967-3fbc-4bb4-b963-4dac4248ea9c",
   "metadata": {},
   "outputs": [
    {
     "data": {
      "text/html": [
       "<div>\n",
       "<style scoped>\n",
       "    .dataframe tbody tr th:only-of-type {\n",
       "        vertical-align: middle;\n",
       "    }\n",
       "\n",
       "    .dataframe tbody tr th {\n",
       "        vertical-align: top;\n",
       "    }\n",
       "\n",
       "    .dataframe thead th {\n",
       "        text-align: right;\n",
       "    }\n",
       "</style>\n",
       "<table border=\"1\" class=\"dataframe\">\n",
       "  <thead>\n",
       "    <tr style=\"text-align: right;\">\n",
       "      <th></th>\n",
       "      <th>Rank</th>\n",
       "      <th>Country</th>\n",
       "      <th>years</th>\n",
       "      <th>Date of Information</th>\n",
       "    </tr>\n",
       "  </thead>\n",
       "  <tbody>\n",
       "  </tbody>\n",
       "</table>\n",
       "</div>"
      ],
      "text/plain": [
       "Empty DataFrame\n",
       "Columns: [Rank, Country, years, Date of Information]\n",
       "Index: []"
      ]
     },
     "execution_count": 27,
     "metadata": {},
     "output_type": "execute_result"
    }
   ],
   "source": [
    "df = pd.DataFrame(columns = titles_table)\n",
    "df"
   ]
  },
  {
   "cell_type": "code",
   "execution_count": 33,
   "id": "969c7e4d-1290-4833-a996-8e038fb36362",
   "metadata": {},
   "outputs": [],
   "source": [
    "# start at [1:] to get rid of an empty row\n",
    "for row in column_data[1:]:\n",
    "    row_data = row.find_all('td')\n",
    "    individual_row_data = [data.text.strip() for data in row_data]\n",
    "    \n",
    "    lenght = len(df)\n",
    "    df.loc[lenght] = individual_row_data"
   ]
  },
  {
   "cell_type": "code",
   "execution_count": 35,
   "id": "a41d701f-bdd3-4c74-92f6-145d98ea7adf",
   "metadata": {},
   "outputs": [
    {
     "data": {
      "text/html": [
       "<div>\n",
       "<style scoped>\n",
       "    .dataframe tbody tr th:only-of-type {\n",
       "        vertical-align: middle;\n",
       "    }\n",
       "\n",
       "    .dataframe tbody tr th {\n",
       "        vertical-align: top;\n",
       "    }\n",
       "\n",
       "    .dataframe thead th {\n",
       "        text-align: right;\n",
       "    }\n",
       "</style>\n",
       "<table border=\"1\" class=\"dataframe\">\n",
       "  <thead>\n",
       "    <tr style=\"text-align: right;\">\n",
       "      <th></th>\n",
       "      <th>Rank</th>\n",
       "      <th>Country</th>\n",
       "      <th>years</th>\n",
       "      <th>Date of Information</th>\n",
       "    </tr>\n",
       "  </thead>\n",
       "  <tbody>\n",
       "    <tr>\n",
       "      <th>0</th>\n",
       "      <td>1</td>\n",
       "      <td>Monaco</td>\n",
       "      <td>89.8</td>\n",
       "      <td>2024 est.</td>\n",
       "    </tr>\n",
       "    <tr>\n",
       "      <th>1</th>\n",
       "      <td>2</td>\n",
       "      <td>Singapore</td>\n",
       "      <td>86.7</td>\n",
       "      <td>2024 est.</td>\n",
       "    </tr>\n",
       "    <tr>\n",
       "      <th>2</th>\n",
       "      <td>3</td>\n",
       "      <td>Macau</td>\n",
       "      <td>85.3</td>\n",
       "      <td>2024 est.</td>\n",
       "    </tr>\n",
       "    <tr>\n",
       "      <th>3</th>\n",
       "      <td>4</td>\n",
       "      <td>Japan</td>\n",
       "      <td>85.2</td>\n",
       "      <td>2024 est.</td>\n",
       "    </tr>\n",
       "    <tr>\n",
       "      <th>4</th>\n",
       "      <td>5</td>\n",
       "      <td>Canada</td>\n",
       "      <td>84.2</td>\n",
       "      <td>2024 est.</td>\n",
       "    </tr>\n",
       "    <tr>\n",
       "      <th>...</th>\n",
       "      <td>...</td>\n",
       "      <td>...</td>\n",
       "      <td>...</td>\n",
       "      <td>...</td>\n",
       "    </tr>\n",
       "    <tr>\n",
       "      <th>222</th>\n",
       "      <td>223</td>\n",
       "      <td>Sierra Leone</td>\n",
       "      <td>59.4</td>\n",
       "      <td>2024 est.</td>\n",
       "    </tr>\n",
       "    <tr>\n",
       "      <th>223</th>\n",
       "      <td>224</td>\n",
       "      <td>Mozambique</td>\n",
       "      <td>58.3</td>\n",
       "      <td>2024 est.</td>\n",
       "    </tr>\n",
       "    <tr>\n",
       "      <th>224</th>\n",
       "      <td>225</td>\n",
       "      <td>Somalia</td>\n",
       "      <td>56.5</td>\n",
       "      <td>2024 est.</td>\n",
       "    </tr>\n",
       "    <tr>\n",
       "      <th>225</th>\n",
       "      <td>226</td>\n",
       "      <td>Central African Republic</td>\n",
       "      <td>56.4</td>\n",
       "      <td>2024 est.</td>\n",
       "    </tr>\n",
       "    <tr>\n",
       "      <th>226</th>\n",
       "      <td>227</td>\n",
       "      <td>Afghanistan</td>\n",
       "      <td>54.4</td>\n",
       "      <td>2024 est.</td>\n",
       "    </tr>\n",
       "  </tbody>\n",
       "</table>\n",
       "<p>227 rows × 4 columns</p>\n",
       "</div>"
      ],
      "text/plain": [
       "    Rank                   Country years Date of Information\n",
       "0      1                    Monaco  89.8           2024 est.\n",
       "1      2                 Singapore  86.7           2024 est.\n",
       "2      3                     Macau  85.3           2024 est.\n",
       "3      4                     Japan  85.2           2024 est.\n",
       "4      5                    Canada  84.2           2024 est.\n",
       "..   ...                       ...   ...                 ...\n",
       "222  223              Sierra Leone  59.4           2024 est.\n",
       "223  224                Mozambique  58.3           2024 est.\n",
       "224  225                   Somalia  56.5           2024 est.\n",
       "225  226  Central African Republic  56.4           2024 est.\n",
       "226  227               Afghanistan  54.4           2024 est.\n",
       "\n",
       "[227 rows x 4 columns]"
      ]
     },
     "execution_count": 35,
     "metadata": {},
     "output_type": "execute_result"
    }
   ],
   "source": [
    "df"
   ]
  },
  {
   "cell_type": "code",
   "execution_count": 45,
   "id": "0b6e73a0-0dda-4115-acd5-f4d7cb159cb6",
   "metadata": {},
   "outputs": [],
   "source": [
    "# after the path to a folder add /name_of_a_new_file.csv and index = False to get rid of indexes\n",
    "df.to_csv(r'/Users/admin/Desktop/data_analytics/lifeExpectancy.csv', index = False)"
   ]
  },
  {
   "cell_type": "code",
   "execution_count": null,
   "id": "3ed6ef92-0353-44c4-ae55-4b187b09df1e",
   "metadata": {},
   "outputs": [],
   "source": []
  }
 ],
 "metadata": {
  "kernelspec": {
   "display_name": "Python 3 (ipykernel)",
   "language": "python",
   "name": "python3"
  },
  "language_info": {
   "codemirror_mode": {
    "name": "ipython",
    "version": 3
   },
   "file_extension": ".py",
   "mimetype": "text/x-python",
   "name": "python",
   "nbconvert_exporter": "python",
   "pygments_lexer": "ipython3",
   "version": "3.12.4"
  }
 },
 "nbformat": 4,
 "nbformat_minor": 5
}
