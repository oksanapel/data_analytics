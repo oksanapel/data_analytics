{
 "cells": [
  {
   "cell_type": "code",
   "execution_count": 1,
   "id": "2a6017af-2497-4631-8253-e101f17549db",
   "metadata": {},
   "outputs": [
    {
     "name": "stdin",
     "output_type": "stream",
     "text": [
      "Enter your name:  Homer Simpson\n",
      "Enter you weight in kg:  120\n",
      "Enter you height in m:  1.83\n"
     ]
    },
    {
     "name": "stdout",
     "output_type": "stream",
     "text": [
      "Your BMI is: 35.8\n",
      "Homer Simpson, you are severely obese.\n"
     ]
    }
   ],
   "source": [
    "# get a name\n",
    "name = input('Enter your name: ')\n",
    "\n",
    "# get weight\n",
    "weight = int(input('Enter you weight in kg: '))\n",
    "\n",
    "# get height\n",
    "height = float(input('Enter you height in m: '))\n",
    "\n",
    "# calculate bmi\n",
    "bmi = round(weight / float(height * height),1)\n",
    "\n",
    "print('Your BMI is: ' + str(bmi))\n",
    "\n",
    "# set the appropriate response for each BMI range\n",
    "if bmi > 0:\n",
    "    if bmi<18.5:\n",
    "        print(name + ', you are underweight.')\n",
    "    elif bmi <=24.9:\n",
    "        print(name + ', you are perfect!')\n",
    "    elif bmi <=29.9:\n",
    "        print(name + ', you are overweight.')\n",
    "    elif bmi <=34.9:\n",
    "        print(name + ', you are obese.')\n",
    "    elif bmi <=39.9:\n",
    "        print(name + ', you are severely obese.')\n",
    "    elif bmi >=40:\n",
    "        print(name + ', you are morbidly obese!')\n",
    "else: print('Enter valid inputs')"
   ]
  },
  {
   "cell_type": "code",
   "execution_count": null,
   "id": "cfc709b9-4a8d-451b-8625-83de1e4b837b",
   "metadata": {},
   "outputs": [],
   "source": []
  }
 ],
 "metadata": {
  "kernelspec": {
   "display_name": "Python 3 (ipykernel)",
   "language": "python",
   "name": "python3"
  },
  "language_info": {
   "codemirror_mode": {
    "name": "ipython",
    "version": 3
   },
   "file_extension": ".py",
   "mimetype": "text/x-python",
   "name": "python",
   "nbconvert_exporter": "python",
   "pygments_lexer": "ipython3",
   "version": "3.12.4"
  }
 },
 "nbformat": 4,
 "nbformat_minor": 5
}
